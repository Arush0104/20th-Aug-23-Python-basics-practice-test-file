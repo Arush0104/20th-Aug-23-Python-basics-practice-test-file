{
 "cells": [
  {
   "cell_type": "code",
   "execution_count": 2,
   "metadata": {},
   "outputs": [],
   "source": [
    "#String Based Assignment Problem"
   ]
  },
  {
   "cell_type": "code",
   "execution_count": 1,
   "metadata": {},
   "outputs": [
    {
     "name": "stdout",
     "output_type": "stream",
     "text": [
      "Enter a string\n"
     ]
    },
    {
     "name": "stdin",
     "output_type": "stream",
     "text": [
      " pwskills\n"
     ]
    },
    {
     "data": {
      "text/plain": [
       "'sllikswp'"
      ]
     },
     "execution_count": 1,
     "metadata": {},
     "output_type": "execute_result"
    }
   ],
   "source": [
    "#Question 1\n",
    "print(\"Enter a string\")\n",
    "word=list(input())\n",
    "word=word[::-1]\n",
    "update = ''.join(word)\n",
    "update"
   ]
  },
  {
   "cell_type": "code",
   "execution_count": 2,
   "metadata": {},
   "outputs": [
    {
     "name": "stdout",
     "output_type": "stream",
     "text": [
      "Enter a string\n",
      " DAD\n",
      "Palindrome\n"
     ]
    }
   ],
   "source": [
    "#Question 2\n",
    "print(\"Enter a string\")\n",
    "word=input()\n",
    "word=list(word)\n",
    "if(word == word[::-1]):\n",
    "    print(\"Palindrome\")\n",
    "else:\n",
    "    print(\"Not a Palindrome\")"
   ]
  },
  {
   "cell_type": "code",
   "execution_count": 4,
   "metadata": {},
   "outputs": [
    {
     "name": "stdout",
     "output_type": "stream",
     "text": [
      "Enter a string\n",
      " python\n"
     ]
    },
    {
     "data": {
      "text/plain": [
       "'PYTHON'"
      ]
     },
     "execution_count": 4,
     "metadata": {},
     "output_type": "execute_result"
    }
   ],
   "source": [
    "#Question 3\n",
    "print(\"Enter a string\")\n",
    "word=input()\n",
    "word.upper()"
   ]
  },
  {
   "cell_type": "code",
   "execution_count": 5,
   "metadata": {},
   "outputs": [
    {
     "name": "stdout",
     "output_type": "stream",
     "text": [
      "Enter a string\n",
      " PYTHON\n"
     ]
    },
    {
     "data": {
      "text/plain": [
       "'python'"
      ]
     },
     "execution_count": 5,
     "metadata": {},
     "output_type": "execute_result"
    }
   ],
   "source": [
    "#Question 4\n",
    "print(\"Enter a string\")\n",
    "word=input()\n",
    "word.lower()\n"
   ]
  },
  {
   "cell_type": "code",
   "execution_count": 14,
   "metadata": {},
   "outputs": [
    {
     "name": "stdout",
     "output_type": "stream",
     "text": [
      "Enter a string\n",
      " rEActjs\n",
      "2\n"
     ]
    }
   ],
   "source": [
    "#Question 5\n",
    "print(\"Enter a string\")\n",
    "word=input()\n",
    "count = 0\n",
    "vowels = list(\"aeiou\")\n",
    "for i in word.lower():\n",
    "    if i in vowels:\n",
    "        count+=1\n",
    "print(count)"
   ]
  },
  {
   "cell_type": "code",
   "execution_count": 17,
   "metadata": {},
   "outputs": [
    {
     "name": "stdout",
     "output_type": "stream",
     "text": [
      "Enter a string\n",
      " CplusPlus\n",
      "7\n"
     ]
    }
   ],
   "source": [
    "#Question 6\n",
    "print(\"Enter a string\")\n",
    "word=input()\n",
    "count = 0\n",
    "consonants = \"bcdfghjklmnpqrstvwxyz\"\n",
    "for i in word.lower():\n",
    "    if i in consonants:\n",
    "        count+=1\n",
    "print(count)"
   ]
  },
  {
   "cell_type": "code",
   "execution_count": 22,
   "metadata": {},
   "outputs": [
    {
     "name": "stdout",
     "output_type": "stream",
     "text": [
      "Enter a string\n",
      " i like numpy\n"
     ]
    },
    {
     "data": {
      "text/plain": [
       "'ilikenumpy'"
      ]
     },
     "execution_count": 22,
     "metadata": {},
     "output_type": "execute_result"
    }
   ],
   "source": [
    "#Question 7\n",
    "print(\"Enter a string\")\n",
    "word=input()\n",
    "word = word.replace(\" \", \"\")\n",
    "word"
   ]
  },
  {
   "cell_type": "code",
   "execution_count": 26,
   "metadata": {},
   "outputs": [
    {
     "name": "stdout",
     "output_type": "stream",
     "text": [
      "Enter a string\n",
      " i like keras\n"
     ]
    },
    {
     "data": {
      "text/plain": [
       "12"
      ]
     },
     "execution_count": 26,
     "metadata": {},
     "output_type": "execute_result"
    }
   ],
   "source": [
    "#Question 8\n",
    "print(\"Enter a string\")\n",
    "word=input()\n",
    "count = 0\n",
    "for i in word:\n",
    "    count+=1\n",
    "count\n"
   ]
  },
  {
   "cell_type": "code",
   "execution_count": 3,
   "metadata": {},
   "outputs": [
    {
     "name": "stdout",
     "output_type": "stream",
     "text": [
      "Enter a string\n",
      " R is language used in statistical learning\n",
      "Enter a target\n",
      " learning\n",
      "learning is contained in the sentence\n"
     ]
    }
   ],
   "source": [
    "#Question 9\n",
    "print(\"Enter a string\")\n",
    "word=input()\n",
    "print(\"Enter a target\")\n",
    "target=input()\n",
    "if target in word:\n",
    "    print(target+\" \"+\"is contained in the sentence\")\n",
    "else:\n",
    "    print(target+\" \"+\"is not contained in the sentence\")"
   ]
  },
  {
   "cell_type": "code",
   "execution_count": 6,
   "metadata": {},
   "outputs": [
    {
     "name": "stdout",
     "output_type": "stream",
     "text": [
      "Enter a string\n",
      " Rust is a cool Programming language\n",
      "Enter a target\n",
      " Rust\n",
      "Enter a word to replace target\n",
      " Javascript\n"
     ]
    },
    {
     "data": {
      "text/plain": [
       "'Javascript is a cool Programming language'"
      ]
     },
     "execution_count": 6,
     "metadata": {},
     "output_type": "execute_result"
    }
   ],
   "source": [
    "#Question 10\n",
    "print(\"Enter a string\")\n",
    "word=input()\n",
    "print(\"Enter a target\")\n",
    "target=input()\n",
    "print(\"Enter a word to replace target\")\n",
    "rep=input()\n",
    "word.replace(target, rep)\n"
   ]
  },
  {
   "cell_type": "code",
   "execution_count": 8,
   "metadata": {},
   "outputs": [
    {
     "name": "stdout",
     "output_type": "stream",
     "text": [
      "Enter a string\n",
      " Rust is cool. Rust is not too hard. \n",
      "Enter a target\n",
      " Rust\n"
     ]
    },
    {
     "data": {
      "text/plain": [
       "2"
      ]
     },
     "execution_count": 8,
     "metadata": {},
     "output_type": "execute_result"
    }
   ],
   "source": [
    "#Question 11\n",
    "print(\"Enter a string\")\n",
    "word=input()\n",
    "print(\"Enter a target\")\n",
    "target=input()\n",
    "word.count(target)"
   ]
  },
  {
   "cell_type": "code",
   "execution_count": 11,
   "metadata": {},
   "outputs": [
    {
     "name": "stdout",
     "output_type": "stream",
     "text": [
      "Enter a string\n",
      " sample text sample text\n",
      "Enter a target\n",
      " sample\n"
     ]
    },
    {
     "data": {
      "text/plain": [
       "0"
      ]
     },
     "execution_count": 11,
     "metadata": {},
     "output_type": "execute_result"
    }
   ],
   "source": [
    "#Question 12\n",
    "print(\"Enter a string\")\n",
    "word=input()\n",
    "print(\"Enter a target\")\n",
    "target=input()\n",
    "idx =word.find(target)\n",
    "idx"
   ]
  },
  {
   "cell_type": "code",
   "execution_count": 15,
   "metadata": {},
   "outputs": [
    {
     "name": "stdout",
     "output_type": "stream",
     "text": [
      "Enter a string\n",
      " I like cplusplus more than python\n",
      "Enter a target\n",
      " python\n"
     ]
    },
    {
     "data": {
      "text/plain": [
       "27"
      ]
     },
     "execution_count": 15,
     "metadata": {},
     "output_type": "execute_result"
    }
   ],
   "source": [
    "#Question 13\n",
    "print(\"Enter a string\")\n",
    "word=input()\n",
    "print(\"Enter a target\")\n",
    "target=input()\n",
    "idx = word.rfind(target)\n",
    "idx\n"
   ]
  },
  {
   "cell_type": "code",
   "execution_count": 18,
   "metadata": {},
   "outputs": [
    {
     "name": "stdout",
     "output_type": "stream",
     "text": [
      "Enter a string\n",
      " TS is another PL\n"
     ]
    },
    {
     "data": {
      "text/plain": [
       "['TS', 'is', 'another', 'PL']"
      ]
     },
     "execution_count": 18,
     "metadata": {},
     "output_type": "execute_result"
    }
   ],
   "source": [
    "#Question 14\n",
    "print(\"Enter a string\")\n",
    "word=input()\n",
    "word.split()"
   ]
  },
  {
   "cell_type": "code",
   "execution_count": 29,
   "metadata": {},
   "outputs": [
    {
     "name": "stdout",
     "output_type": "stream",
     "text": [
      "Enter length of list\n",
      " 4\n",
      " Sudh\n",
      " sir\n",
      " is \n",
      " cool\n"
     ]
    },
    {
     "data": {
      "text/plain": [
       "'Sudh sir is  cool'"
      ]
     },
     "execution_count": 29,
     "metadata": {},
     "output_type": "execute_result"
    }
   ],
   "source": [
    "#Question 15\n",
    "print(\"Enter length of list\")\n",
    "word=int(input())\n",
    "l=[]\n",
    "for i in range(0,word):\n",
    "    k=input()\n",
    "    l.append(k)\n",
    "neustring = ' '.join(l)\n",
    "neustring"
   ]
  },
  {
   "cell_type": "code",
   "execution_count": 33,
   "metadata": {},
   "outputs": [
    {
     "name": "stdout",
     "output_type": "stream",
     "text": [
      "Enter String\n",
      " fsds is nice\n"
     ]
    },
    {
     "data": {
      "text/plain": [
       "'fsds_is_nice'"
      ]
     },
     "execution_count": 33,
     "metadata": {},
     "output_type": "execute_result"
    }
   ],
   "source": [
    "#Question 16\n",
    "print(\"Enter String\")\n",
    "word=input().split()\n",
    "newstring = '_'.join(word)\n",
    "newstring"
   ]
  },
  {
   "cell_type": "code",
   "execution_count": 35,
   "metadata": {},
   "outputs": [
    {
     "name": "stdout",
     "output_type": "stream",
     "text": [
      "Enter String\n",
      " Python is satisfying\n",
      "Enter the Starts with word\n",
      " Python\n"
     ]
    },
    {
     "data": {
      "text/plain": [
       "True"
      ]
     },
     "execution_count": 35,
     "metadata": {},
     "output_type": "execute_result"
    }
   ],
   "source": [
    "#Question 17\n",
    "print(\"Enter String\")\n",
    "word=input()\n",
    "print(\"Enter the Starts with word\")\n",
    "starts=input()\n",
    "word.startswith(starts)\n"
   ]
  },
  {
   "cell_type": "code",
   "execution_count": 37,
   "metadata": {},
   "outputs": [
    {
     "name": "stdout",
     "output_type": "stream",
     "text": [
      "Enter String\n",
      " Numpy is nice but i like pandas\n",
      "Enter the ends with word\n",
      " pandas\n"
     ]
    },
    {
     "data": {
      "text/plain": [
       "True"
      ]
     },
     "execution_count": 37,
     "metadata": {},
     "output_type": "execute_result"
    }
   ],
   "source": [
    "#Question 18\n",
    "print(\"Enter String\")\n",
    "word=input()\n",
    "print(\"Enter the ends with word\")\n",
    "ends=input()\n",
    "word.endswith(ends)"
   ]
  },
  {
   "cell_type": "code",
   "execution_count": 1,
   "metadata": {},
   "outputs": [
    {
     "name": "stdout",
     "output_type": "stream",
     "text": [
      "Enter String\n",
      " hello, world\n"
     ]
    },
    {
     "data": {
      "text/plain": [
       "'Hello, World'"
      ]
     },
     "execution_count": 1,
     "metadata": {},
     "output_type": "execute_result"
    }
   ],
   "source": [
    "#Question 19\n",
    "print(\"Enter String\")\n",
    "word=input().title()\n",
    "word\n"
   ]
  },
  {
   "cell_type": "code",
   "execution_count": 11,
   "metadata": {},
   "outputs": [
    {
     "name": "stdout",
     "output_type": "stream",
     "text": [
      "Enter String\n",
      " Javascript is cool but python is cool\n",
      "Javascript\n"
     ]
    }
   ],
   "source": [
    "#Question 20\n",
    "print(\"Enter String\")\n",
    "word=input().split()\n",
    "biggestStr = \"\"\n",
    "temp = -1\n",
    "for i in word:\n",
    "    if len(i)>temp:\n",
    "        temp=len(i)\n",
    "        biggestStr=i\n",
    "print(biggestStr)\n",
    "        \n"
   ]
  },
  {
   "cell_type": "code",
   "execution_count": 13,
   "metadata": {},
   "outputs": [
    {
     "name": "stdout",
     "output_type": "stream",
     "text": [
      "Enter String\n",
      " Javascript is cool but python is cool\n",
      "is\n"
     ]
    }
   ],
   "source": [
    "#Question 21\n",
    "print(\"Enter String\")\n",
    "word=input().split()\n",
    "smallestStr = \"\"\n",
    "temp = 10000000000000000000\n",
    "for i in word:\n",
    "    if len(i)<temp:\n",
    "        temp=len(i)\n",
    "        smallestStr=i\n",
    "print(smallestStr)"
   ]
  },
  {
   "cell_type": "code",
   "execution_count": 16,
   "metadata": {},
   "outputs": [
    {
     "name": "stdout",
     "output_type": "stream",
     "text": [
      "Enter String\n",
      " I am not a huge fan of assembly\n"
     ]
    },
    {
     "data": {
      "text/plain": [
       "'assembly of fan huge a not am I'"
      ]
     },
     "execution_count": 16,
     "metadata": {},
     "output_type": "execute_result"
    }
   ],
   "source": [
    "#Question 22\n",
    "print(\"Enter String\")\n",
    "sent=input().split()\n",
    "sent = sent[::-1]\n",
    "new_sent = ' '.join(sent)\n",
    "new_sent"
   ]
  },
  {
   "cell_type": "code",
   "execution_count": 2,
   "metadata": {},
   "outputs": [
    {
     "name": "stdout",
     "output_type": "stream",
     "text": [
      "Enter String\n",
      " Python\n",
      "Alphanumeric string\n"
     ]
    }
   ],
   "source": [
    "#Question 23\n",
    "print(\"Enter String\")\n",
    "s=input()\n",
    "if(s.isalnum()):\n",
    "    print(\"Alphanumeric string\")\n",
    "else:\n",
    "    print(\"Not an alphanumeric string\")"
   ]
  },
  {
   "cell_type": "code",
   "execution_count": 10,
   "metadata": {},
   "outputs": [
    {
     "name": "stdout",
     "output_type": "stream",
     "text": [
      "Enter String\n",
      " 123pythonisnice3456\n"
     ]
    },
    {
     "data": {
      "text/plain": [
       "1233456"
      ]
     },
     "execution_count": 10,
     "metadata": {},
     "output_type": "execute_result"
    }
   ],
   "source": [
    "#Question 24\n",
    "print(\"Enter String\")\n",
    "s=input()\n",
    "char=\"\"\n",
    "nums=\"1234567890\"\n",
    "for i in s:\n",
    "    if i.isdigit():\n",
    "        char+=i\n",
    "int(char)\n",
    "                \n",
    "        "
   ]
  },
  {
   "cell_type": "code",
   "execution_count": 13,
   "metadata": {},
   "outputs": [
    {
     "name": "stdout",
     "output_type": "stream",
     "text": [
      "Enter String\n",
      " 123pythonisnice3456\n"
     ]
    },
    {
     "data": {
      "text/plain": [
       "'pythonisnice'"
      ]
     },
     "execution_count": 13,
     "metadata": {},
     "output_type": "execute_result"
    }
   ],
   "source": [
    "#Question 25\n",
    "print(\"Enter String\")\n",
    "s=input()\n",
    "char=\"\"\n",
    "for i in s:\n",
    "    if i.isalpha():\n",
    "        char+=i\n",
    "char\n",
    "      "
   ]
  },
  {
   "cell_type": "code",
   "execution_count": 15,
   "metadata": {},
   "outputs": [
    {
     "name": "stdout",
     "output_type": "stream",
     "text": [
      "Enter String\n",
      " RUST is nice JAVA is cool\n"
     ]
    },
    {
     "data": {
      "text/plain": [
       "'RUSTJAVA'"
      ]
     },
     "execution_count": 15,
     "metadata": {},
     "output_type": "execute_result"
    }
   ],
   "source": [
    "#Question 26\n",
    "print(\"Enter String\")\n",
    "s=input()\n",
    "char=\"\"\n",
    "for i in s:\n",
    "    if i.isalpha():\n",
    "        if i.isupper():\n",
    "            char+=i\n",
    "char\n",
    "      "
   ]
  },
  {
   "cell_type": "code",
   "execution_count": 19,
   "metadata": {},
   "outputs": [
    {
     "name": "stdout",
     "output_type": "stream",
     "text": [
      "Enter String\n",
      " python123JAVA\n"
     ]
    },
    {
     "data": {
      "text/plain": [
       "'python'"
      ]
     },
     "execution_count": 19,
     "metadata": {},
     "output_type": "execute_result"
    }
   ],
   "source": [
    "#Question 27\n",
    "print(\"Enter String\")\n",
    "s=input()\n",
    "char=\"\"\n",
    "for i in s:\n",
    "    if i.isalpha():\n",
    "        if i.islower():\n",
    "            char+=i\n",
    "char"
   ]
  },
  {
   "cell_type": "code",
   "execution_count": 18,
   "metadata": {},
   "outputs": [
    {
     "name": "stdout",
     "output_type": "stream",
     "text": [
      "Enter String\n",
      " JAVAscript\n"
     ]
    },
    {
     "data": {
      "text/plain": [
       "'javaSCRIPT'"
      ]
     },
     "execution_count": 18,
     "metadata": {},
     "output_type": "execute_result"
    }
   ],
   "source": [
    "#Question 28\n",
    "print(\"Enter String\")\n",
    "s=input()\n",
    "s.swapcase()\n"
   ]
  },
  {
   "cell_type": "code",
   "execution_count": 7,
   "metadata": {},
   "outputs": [
    {
     "name": "stdout",
     "output_type": "stream",
     "text": [
      "Enter String\n",
      " Typescript is as cool as Javascript\n",
      "Enter the string you want to remove\n",
      " cool\n"
     ]
    },
    {
     "data": {
      "text/plain": [
       "'Typescript is as  as Javascript'"
      ]
     },
     "execution_count": 7,
     "metadata": {},
     "output_type": "execute_result"
    }
   ],
   "source": [
    "#Question 29\n",
    "print(\"Enter String\")\n",
    "s=input()\n",
    "print(\"Enter the string you want to remove\")\n",
    "target=input()\n",
    "updated_string =s.replace(target,'')\n",
    "updated_string\n"
   ]
  },
  {
   "cell_type": "code",
   "execution_count": 15,
   "metadata": {},
   "outputs": [
    {
     "name": "stdout",
     "output_type": "stream",
     "text": [
      "Enter String\n",
      " pwskills@support.com\n",
      "Good Pattern\n"
     ]
    }
   ],
   "source": [
    "#Question 30\n",
    "import re\n",
    "print(\"Enter String\")\n",
    "email=input()\n",
    "pattern =  r'^[\\w\\.-]+@[\\w\\.-]+\\.\\w+$'\n",
    "if re.match(pattern, email):\n",
    "    print(\"Good Pattern\")\n",
    "else:\n",
    "    print(\"Bad Pattern\")\n"
   ]
  },
  {
   "cell_type": "code",
   "execution_count": 16,
   "metadata": {},
   "outputs": [
    {
     "name": "stdout",
     "output_type": "stream",
     "text": [
      "Enter String\n",
      " pwskills@support.com\n"
     ]
    },
    {
     "data": {
      "text/plain": [
       "'pwskills'"
      ]
     },
     "execution_count": 16,
     "metadata": {},
     "output_type": "execute_result"
    }
   ],
   "source": [
    "#Question 31\n",
    "print(\"Enter String\")\n",
    "email=input()\n",
    "username = email.split('@')[0]\n",
    "username"
   ]
  },
  {
   "cell_type": "code",
   "execution_count": 17,
   "metadata": {},
   "outputs": [
    {
     "name": "stdout",
     "output_type": "stream",
     "text": [
      " pwskills@support.com\n"
     ]
    },
    {
     "data": {
      "text/plain": [
       "'support.com'"
      ]
     },
     "execution_count": 17,
     "metadata": {},
     "output_type": "execute_result"
    }
   ],
   "source": [
    "#Question 32\n",
    "email=input()\n",
    "dn = email.split('@')[1]\n",
    "dn\n"
   ]
  },
  {
   "cell_type": "code",
   "execution_count": 22,
   "metadata": {},
   "outputs": [
    {
     "name": "stdout",
     "output_type": "stream",
     "text": [
      "Enter String\n",
      " Hello     I    LIKE      PW\n"
     ]
    },
    {
     "data": {
      "text/plain": [
       "'Hello I LIKE PW'"
      ]
     },
     "execution_count": 22,
     "metadata": {},
     "output_type": "execute_result"
    }
   ],
   "source": [
    "#Question 33\n",
    "print(\"Enter String\")\n",
    "s=input()\n",
    "updateStr = ' '.join(s.split())\n",
    "updateStr"
   ]
  },
  {
   "cell_type": "code",
   "execution_count": 26,
   "metadata": {},
   "outputs": [
    {
     "name": "stdout",
     "output_type": "stream",
     "text": [
      "True\n",
      "False\n"
     ]
    }
   ],
   "source": [
    "#Question 34\n",
    "from urllib.parse import urlparse\n",
    "\n",
    "url1 = \"https://www.example.com\"\n",
    "url2 = \"notaurl\"\n",
    "\n",
    "try:\n",
    "    result = urlparse(url1)\n",
    "    print(all([result.scheme, result.netloc]))\n",
    "except ValueError:\n",
    "    print(\"Error\")\n",
    "\n",
    "try:\n",
    "    result = urlparse(url2)\n",
    "    print(all([result.scheme, result.netloc]))\n",
    "except ValueError:\n",
    "    print(\"Error\")\n"
   ]
  },
  {
   "cell_type": "code",
   "execution_count": 35,
   "metadata": {},
   "outputs": [
    {
     "name": "stdout",
     "output_type": "stream",
     "text": [
      "\n"
     ]
    }
   ],
   "source": [
    "#Question 35\n",
    "from urllib.parse import urlparse\n",
    "url=\"https://pwskills.com/courses/\"\n",
    "parsed_url = urlparse(url)\n",
    "hostname = parsed_url.hostname\n",
    "protocol = parsed_url.scheme\n",
    "print(protocol)\n"
   ]
  },
  {
   "cell_type": "code",
   "execution_count": 39,
   "metadata": {},
   "outputs": [
    {
     "name": "stdout",
     "output_type": "stream",
     "text": [
      "Enter String\n",
      " yes i like cake\n",
      "y : 1\n",
      "e : 3\n",
      "s : 1\n",
      "  : 3\n",
      "i : 2\n",
      "l : 1\n",
      "k : 2\n",
      "c : 1\n",
      "a : 1\n"
     ]
    }
   ],
   "source": [
    "#Question 36\n",
    "print(\"Enter String\")\n",
    "s = input()\n",
    "\n",
    "char_count = {}\n",
    "\n",
    "for char in s:\n",
    "    if char in char_count:\n",
    "        char_count[char] += 1\n",
    "    else:\n",
    "        char_count[char] = 1\n",
    "\n",
    "for char, count in char_count.items():\n",
    "    print(f\"{char} : {count}\")\n"
   ]
  },
  {
   "cell_type": "code",
   "execution_count": 50,
   "metadata": {},
   "outputs": [
    {
     "name": "stdout",
     "output_type": "stream",
     "text": [
      "Enter String\n",
      " sdfghj#$%^&*(\n",
      "sdfghj\n"
     ]
    }
   ],
   "source": [
    "#Question 37\n",
    "import string\n",
    "print(\"Enter String\")\n",
    "s = input()\n",
    "# Using translate method to remove punctuation\n",
    "test_str = s.translate(s.maketrans('','',string.punctuation))\n",
    "print(test_str)\n"
   ]
  },
  {
   "cell_type": "code",
   "execution_count": 63,
   "metadata": {},
   "outputs": [
    {
     "name": "stdout",
     "output_type": "stream",
     "text": [
      "Enter String\n",
      " 123456\n",
      "Contains only digits\n"
     ]
    }
   ],
   "source": [
    "#Question 38\n",
    "print(\"Enter String\")\n",
    "s = input()\n",
    "if(s.isdigit()):\n",
    "    print(\"Contains only digits\")\n",
    "else:\n",
    "    print(\"Contains alphabets\")"
   ]
  },
  {
   "cell_type": "code",
   "execution_count": 3,
   "metadata": {},
   "outputs": [
    {
     "name": "stdout",
     "output_type": "stream",
     "text": [
      "Enter String\n",
      " abcdcake\n",
      "Contains only alphabets\n"
     ]
    }
   ],
   "source": [
    "#Question 39\n",
    "print(\"Enter String\")\n",
    "s = input()\n",
    "if(s.isalpha()):\n",
    "    print(\"Contains only alphabets\")\n",
    "else:\n",
    "    print(\"does not only contain alphabets\")"
   ]
  },
  {
   "cell_type": "code",
   "execution_count": 5,
   "metadata": {},
   "outputs": [
    {
     "name": "stdout",
     "output_type": "stream",
     "text": [
      "Enter String\n",
      " i like nlp\n"
     ]
    },
    {
     "data": {
      "text/plain": [
       "['i', ' ', 'l', 'i', 'k', 'e', ' ', 'n', 'l', 'p']"
      ]
     },
     "execution_count": 5,
     "metadata": {},
     "output_type": "execute_result"
    }
   ],
   "source": [
    "#Question 40\n",
    "print(\"Enter String\")\n",
    "s = list(input())\n",
    "s"
   ]
  },
  {
   "cell_type": "code",
   "execution_count": 17,
   "metadata": {},
   "outputs": [
    {
     "name": "stdout",
     "output_type": "stream",
     "text": [
      "Enter String\n",
      " fried\n",
      "Enter another String\n",
      " fired\n",
      "Valid Anagram\n"
     ]
    }
   ],
   "source": [
    "#Question 41\n",
    "print(\"Enter String\")\n",
    "an1 = list(input())\n",
    "print(\"Enter another String\")\n",
    "an2 = list(input())\n",
    "u = sorted(list(an1))\n",
    "v = sorted(list(an2))\n",
    "if(u==v):\n",
    "    print(\"Valid Anagram\")\n",
    "else:\n",
    "    print(\"Not a valid anagram\")"
   ]
  },
  {
   "cell_type": "code",
   "execution_count": 20,
   "metadata": {},
   "outputs": [
    {
     "name": "stdout",
     "output_type": "stream",
     "text": [
      "Enter String\n",
      " Python\n",
      "Original: Python\n",
      "Ciphered: Sbwkrq\n"
     ]
    }
   ],
   "source": [
    "#Question 42\n",
    "print(\"Enter String\")\n",
    "plaintext = input()\n",
    "shift = 3\n",
    "\n",
    "ciphered_text = \"\"\n",
    "for char in plaintext:\n",
    "    if char.isalpha():\n",
    "        shift_direction = 1 if char.islower() else -1\n",
    "        shifted_char = chr(((ord(char) - ord('a' if char.islower() else 'A') + shift) % 26)\n",
    "                           + ord('a' if char.islower() else 'A'))\n",
    "        ciphered_text += shifted_char\n",
    "    else:\n",
    "        ciphered_text += char\n",
    "\n",
    "print(\"Original:\", plaintext)\n",
    "print(\"Ciphered:\", ciphered_text)\n"
   ]
  },
  {
   "cell_type": "code",
   "execution_count": 21,
   "metadata": {},
   "outputs": [
    {
     "name": "stdout",
     "output_type": "stream",
     "text": [
      "Enter String\n",
      " Sbwkrq\n",
      "Ciphertext:  Sbwkrq\n",
      "Deciphered:  Python\n"
     ]
    }
   ],
   "source": [
    "#Question 43\n",
    "print(\"Enter String\")\n",
    "ciphertext = input()\n",
    "shift = 3\n",
    "\n",
    "deciphered_text = \"\"\n",
    "for char in ciphertext:\n",
    "    if char.isalpha():\n",
    "        shift_direction = 1 if char.islower() else -1\n",
    "        shifted_char = chr(((ord(char) - ord('a' if char.islower() else 'A') - shift) % 26)\n",
    "                           + ord('a' if char.islower() else 'A'))\n",
    "        deciphered_text += shifted_char\n",
    "    else:\n",
    "        deciphered_text += char\n",
    "\n",
    "print(\"Ciphertext: \", ciphertext)\n",
    "print(\"Deciphered: \", deciphered_text)\n"
   ]
  },
  {
   "cell_type": "code",
   "execution_count": 23,
   "metadata": {},
   "outputs": [
    {
     "name": "stdout",
     "output_type": "stream",
     "text": [
      "Enter String\n",
      " Hello, World\n",
      "('l', 3)\n"
     ]
    }
   ],
   "source": [
    "#Question 44\n",
    "import collections\n",
    "print(\"Enter String\")\n",
    "s = input()\n",
    "print(collections.Counter(s).most_common(1)[0])"
   ]
  },
  {
   "cell_type": "code",
   "execution_count": 29,
   "metadata": {},
   "outputs": [
    {
     "name": "stdout",
     "output_type": "stream",
     "text": [
      "Please enter a sentence:  Java is cool so is python\n",
      "{'so', 'Java', 'python', 'cool', 'is'}\n"
     ]
    }
   ],
   "source": [
    "#Question 45\n",
    "\n",
    "str1 = input(\"Please enter a sentence: \")\n",
    "\n",
    "unique_words = set(str1.split(' '))\n",
    "print(unique_words)"
   ]
  },
  {
   "cell_type": "code",
   "execution_count": 31,
   "metadata": {},
   "outputs": [
    {
     "name": "stdout",
     "output_type": "stream",
     "text": [
      "Enter String\n",
      " Arush\n",
      "2\n"
     ]
    }
   ],
   "source": [
    "#Question 46\n",
    "print(\"Enter String\")\n",
    "s = input().lower()\n",
    "vowels=list(\"aeiouy\")\n",
    "count = 0\n",
    "for i in s:\n",
    "    if i in vowels:\n",
    "        count+=1\n",
    "print(count)"
   ]
  },
  {
   "cell_type": "code",
   "execution_count": 8,
   "metadata": {},
   "outputs": [
    {
     "name": "stdout",
     "output_type": "stream",
     "text": [
      "Enter String\n",
      " yes\n",
      "Not present\n"
     ]
    }
   ],
   "source": [
    "#Question 47\n",
    "print(\"Enter String\")\n",
    "s = input()\n",
    "specialChar=list(\"[!@#$%^&*()_+{}\\[\\]:;<>,.?~\\\\/]\")\n",
    "present = False\n",
    "for i in s:\n",
    "    if i in specialChar:\n",
    "        present = True\n",
    "        break\n",
    "    else:\n",
    "        present= False\n",
    "if(present):\n",
    "    print(\"Present\")\n",
    "else:\n",
    "    print(\"Not present\")"
   ]
  },
  {
   "cell_type": "code",
   "execution_count": 29,
   "metadata": {},
   "outputs": [
    {
     "name": "stdout",
     "output_type": "stream",
     "text": [
      "Enter String\n",
      " python is a cool pl\n",
      "Enter the index to remove\n",
      " 2\n",
      "python is cool pl\n"
     ]
    }
   ],
   "source": [
    "#Question 48\n",
    "print(\"Enter String\")\n",
    "s = input().split()\n",
    "print(\"Enter the index to remove\")\n",
    "n = int(input())\n",
    "\n",
    "if(n>=1&n<=len(s)):\n",
    "    removed = s.pop(n)\n",
    "    mod_str = ' '.join(s)\n",
    "else:\n",
    "    print(\"Error\")\n",
    "print(mod_str)"
   ]
  },
  {
   "cell_type": "code",
   "execution_count": 38,
   "metadata": {},
   "outputs": [
    {
     "name": "stdout",
     "output_type": "stream",
     "text": [
      "Enter String\n",
      " pwskills is very cool\n",
      "Enter String\n",
      " very\n",
      "Enter the position to insert\n",
      " 11\n",
      "pwskills isvery very cool\n"
     ]
    }
   ],
   "source": [
    "#Question 49\n",
    "print(\"Enter String\")\n",
    "s = input()\n",
    "print(\"Enter String\")\n",
    "w = input()\n",
    "print(\"Enter the position to insert\")\n",
    "n = int(input())\n",
    "\n",
    "\n",
    "if n < 0:\n",
    "    n = 0\n",
    "elif n > len(s):\n",
    "    n = len(s)\n",
    "\n",
    "result = s[:n] + w + s[n:]\n",
    "print(result)\n"
   ]
  },
  {
   "cell_type": "code",
   "execution_count": 39,
   "metadata": {},
   "outputs": [
    {
     "name": "stdout",
     "output_type": "stream",
     "text": [
      "['Name', 'Age', 'Location']\n",
      "['James', '21', 'Bonn']\n",
      "['Mitchell', '41', 'Berlin']\n",
      "['Price', '50', 'Kinloss']\n"
     ]
    }
   ],
   "source": [
    "#Question 49\n",
    "import csv\n",
    "from io import StringIO\n",
    "csv_string = \"Name,Age,Location\\nJames,21,Bonn\\nMitchell,41,Berlin\\nPrice,50,Kinloss\"\n",
    "csv_list = list(csv.reader(StringIO(csv_string)))\n",
    "for row in csv_list:\n",
    "    print(row)"
   ]
  },
  {
   "cell_type": "code",
   "execution_count": null,
   "metadata": {},
   "outputs": [],
   "source": [
    "#List Based Practice Problem\n",
    "#From here I shall try using functions."
   ]
  },
  {
   "cell_type": "code",
   "execution_count": 12,
   "metadata": {},
   "outputs": [
    {
     "data": {
      "text/plain": [
       "[1, 2, 3, 4, 5, 6, 7, 8, 9, 10]"
      ]
     },
     "execution_count": 12,
     "metadata": {},
     "output_type": "execute_result"
    }
   ],
   "source": [
    "#Question 1\n",
    "l=[]\n",
    "for i in range(1,11):\n",
    "    l.append(i)\n",
    "l"
   ]
  },
  {
   "cell_type": "code",
   "execution_count": 13,
   "metadata": {},
   "outputs": [
    {
     "data": {
      "text/plain": [
       "5"
      ]
     },
     "execution_count": 13,
     "metadata": {},
     "output_type": "execute_result"
    }
   ],
   "source": [
    "#Question 2\n",
    "li=[1,2,3,4,5]\n",
    "\n",
    "def length(l):\n",
    "    count=0\n",
    "    for _ in l:\n",
    "        count+=1\n",
    "    return count\n",
    "length(li)\n",
    "    "
   ]
  },
  {
   "cell_type": "code",
   "execution_count": 14,
   "metadata": {},
   "outputs": [
    {
     "data": {
      "text/plain": [
       "[1, 2, 3, 4]"
      ]
     },
     "execution_count": 14,
     "metadata": {},
     "output_type": "execute_result"
    }
   ],
   "source": [
    "#Question 3\n",
    "element_to_be_appended = 4\n",
    "l=[1,2,3]\n",
    "l.append(element_to_be_appended)\n",
    "l"
   ]
  },
  {
   "cell_type": "code",
   "execution_count": 24,
   "metadata": {},
   "outputs": [
    {
     "data": {
      "text/plain": [
       "[1, 2, 3, 4, 5]"
      ]
     },
     "execution_count": 24,
     "metadata": {},
     "output_type": "execute_result"
    }
   ],
   "source": [
    "#Question 4\n",
    "index_of_insertion = 2\n",
    "element_to_be_inserted = 3\n",
    "org_l =[1,2,4,5]\n",
    "org_l.insert(index_of_insertion,element_to_be_inserted)\n",
    "org_l"
   ]
  },
  {
   "cell_type": "code",
   "execution_count": 26,
   "metadata": {},
   "outputs": [
    {
     "data": {
      "text/plain": [
       "[1, 2, 4, 5]"
      ]
     },
     "execution_count": 26,
     "metadata": {},
     "output_type": "execute_result"
    }
   ],
   "source": [
    "#Question 5\n",
    "l=[1,2,3,4,5]\n",
    "element_to_be_removed = 3\n",
    "l.remove(element_to_be_removed)\n",
    "l"
   ]
  },
  {
   "cell_type": "code",
   "execution_count": 29,
   "metadata": {},
   "outputs": [
    {
     "data": {
      "text/plain": [
       "[1, 3, 4, 5]"
      ]
     },
     "execution_count": 29,
     "metadata": {},
     "output_type": "execute_result"
    }
   ],
   "source": [
    "#Question 6\n",
    "l=[1,2,3,4,5]\n",
    "index_to_be_removed = 1\n",
    "l.pop(index_to_be_removed)\n",
    "l"
   ]
  },
  {
   "cell_type": "code",
   "execution_count": 37,
   "metadata": {},
   "outputs": [
    {
     "name": "stdout",
     "output_type": "stream",
     "text": [
      "True\n"
     ]
    }
   ],
   "source": [
    "#Question 7\n",
    "def exists(l, target):\n",
    "    for i in range(0, len(l)):\n",
    "        if l[i] == target:\n",
    "            return True\n",
    "    return False\n",
    "\n",
    "l = [1, 2, 3, 4, 6, 7, 8]\n",
    "target = 4\n",
    "result = exists(l, target)\n",
    "print(result)\n"
   ]
  },
  {
   "cell_type": "code",
   "execution_count": 40,
   "metadata": {},
   "outputs": [
    {
     "data": {
      "text/plain": [
       "1"
      ]
     },
     "execution_count": 40,
     "metadata": {},
     "output_type": "execute_result"
    }
   ],
   "source": [
    "#Question 8\n",
    "def indx(l,target):\n",
    "    for i in range(0,len(l)):\n",
    "        if(l[i]==target):\n",
    "            return i\n",
    "    return -1\n",
    "l=[1,2,2,3,3,4,4,5,5,5,5,5]\n",
    "target = 2\n",
    "indx(l,target)\n"
   ]
  },
  {
   "cell_type": "code",
   "execution_count": 43,
   "metadata": {},
   "outputs": [
    {
     "data": {
      "text/plain": [
       "4"
      ]
     },
     "execution_count": 43,
     "metadata": {},
     "output_type": "execute_result"
    }
   ],
   "source": [
    "#Question 9\n",
    "def count_occ(l,target):\n",
    "    count=0\n",
    "    for i in range(0,len(l)):\n",
    "        if(l[i]==target):\n",
    "            count+=1\n",
    "    return count\n",
    "l=[1,2,2,3,3,4,4,5,5,5,5]\n",
    "target = 5\n",
    "count_occ(l,target)\n"
   ]
  },
  {
   "cell_type": "code",
   "execution_count": 51,
   "metadata": {},
   "outputs": [
    {
     "data": {
      "text/plain": [
       "[6, 5, 4, 3, 2, 1]"
      ]
     },
     "execution_count": 51,
     "metadata": {},
     "output_type": "execute_result"
    }
   ],
   "source": [
    "#Question 10\n",
    "def rev(l):\n",
    "    return l[::-1]\n",
    "list1 = [1,2,3,4,5,6]\n",
    "rev(list1)"
   ]
  },
  {
   "cell_type": "code",
   "execution_count": 57,
   "metadata": {},
   "outputs": [
    {
     "data": {
      "text/plain": [
       "[2, 3, 3, 5, 6, 7, 34, 43]"
      ]
     },
     "execution_count": 57,
     "metadata": {},
     "output_type": "execute_result"
    }
   ],
   "source": [
    "#Question 11\n",
    "def sorting(l):\n",
    "    return sorted(l)\n",
    "list1 = [6,3,34,7,5,43,3,2]\n",
    "sorting(list1)"
   ]
  },
  {
   "cell_type": "code",
   "execution_count": 58,
   "metadata": {},
   "outputs": [
    {
     "data": {
      "text/plain": [
       "[7, 5, 4, 3, 2]"
      ]
     },
     "execution_count": 58,
     "metadata": {},
     "output_type": "execute_result"
    }
   ],
   "source": [
    "#Question 12\n",
    "def sorting_descending(l):\n",
    "    return sorted(l,reverse=True)\n",
    "list1 = [2,3,4,5,7]\n",
    "sorting_descending(list1)"
   ]
  },
  {
   "cell_type": "code",
   "execution_count": 1,
   "metadata": {},
   "outputs": [
    {
     "data": {
      "text/plain": [
       "[2, 4, 6, 8, 10, 12, 14, 16, 18, 20]"
      ]
     },
     "execution_count": 1,
     "metadata": {},
     "output_type": "execute_result"
    }
   ],
   "source": [
    "#Question 13\n",
    "l=[]\n",
    "for i in range(1,21):\n",
    "    if(i%2==0):\n",
    "        l.append(i)\n",
    "l"
   ]
  },
  {
   "cell_type": "code",
   "execution_count": 2,
   "metadata": {},
   "outputs": [
    {
     "data": {
      "text/plain": [
       "[1, 3, 5, 7, 9, 11, 13, 15, 17, 19]"
      ]
     },
     "execution_count": 2,
     "metadata": {},
     "output_type": "execute_result"
    }
   ],
   "source": [
    "#Question 14\n",
    "l=[]\n",
    "for i in range(1,21):\n",
    "    if(i%2!=0):\n",
    "        l.append(i)\n",
    "l"
   ]
  },
  {
   "cell_type": "code",
   "execution_count": 6,
   "metadata": {},
   "outputs": [
    {
     "data": {
      "text/plain": [
       "15"
      ]
     },
     "execution_count": 6,
     "metadata": {},
     "output_type": "execute_result"
    }
   ],
   "source": [
    "#Question 15\n",
    "def sumofarray(l):\n",
    "    sum=0\n",
    "    for i in range(0,len(l)):\n",
    "        sum+=l[i]\n",
    "    return sum\n",
    "\n",
    "l=[1,2,3,4,5]\n",
    "sum(l)\n",
    "    "
   ]
  },
  {
   "cell_type": "code",
   "execution_count": 10,
   "metadata": {},
   "outputs": [
    {
     "data": {
      "text/plain": [
       "9"
      ]
     },
     "execution_count": 10,
     "metadata": {},
     "output_type": "execute_result"
    }
   ],
   "source": [
    "#Question 16\n",
    "def minimum(l):\n",
    "    temp = float('-inf')\n",
    "    for i in range(0,len(l)):\n",
    "        if(l[i]>temp):\n",
    "            temp=l[i]\n",
    "    return temp\n",
    "l=[3,6,9,7,4]\n",
    "minimum(l)\n"
   ]
  },
  {
   "cell_type": "code",
   "execution_count": 11,
   "metadata": {},
   "outputs": [
    {
     "data": {
      "text/plain": [
       "3"
      ]
     },
     "execution_count": 11,
     "metadata": {},
     "output_type": "execute_result"
    }
   ],
   "source": [
    "#Question 17\n",
    "def maximum(l):\n",
    "    temp = float('inf')\n",
    "    for i in range(0,len(l)):\n",
    "        if(l[i]<temp):\n",
    "            temp=l[i]\n",
    "    return temp\n",
    "l=[3,6,9,7,4]\n",
    "maximum(l)\n"
   ]
  },
  {
   "cell_type": "code",
   "execution_count": 16,
   "metadata": {},
   "outputs": [
    {
     "data": {
      "text/plain": [
       "[0, 1, 4, 9, 16, 25, 36, 49, 64, 81, 100]"
      ]
     },
     "execution_count": 16,
     "metadata": {},
     "output_type": "execute_result"
    }
   ],
   "source": [
    "#Question 18\n",
    "l=[]\n",
    "def sqr(l):\n",
    "    for i in range(0,11):\n",
    "        l.append(i*i)\n",
    "    return l\n",
    "sqr(l)\n"
   ]
  },
  {
   "cell_type": "code",
   "execution_count": 19,
   "metadata": {},
   "outputs": [
    {
     "data": {
      "text/plain": [
       "[416, 239, 517, 994, 429, 979, 327, 68, 111, 570]"
      ]
     },
     "execution_count": 19,
     "metadata": {},
     "output_type": "execute_result"
    }
   ],
   "source": [
    "#Question 19\n",
    "import random\n",
    "rand_list = [random.randint(1, 1000) for _ in range(10)]\n",
    "rand_list"
   ]
  },
  {
   "cell_type": "code",
   "execution_count": 41,
   "metadata": {},
   "outputs": [
    {
     "data": {
      "text/plain": [
       "[2, 3, 4, 5, 6, 7, 8]"
      ]
     },
     "execution_count": 41,
     "metadata": {},
     "output_type": "execute_result"
    }
   ],
   "source": [
    "#Question 20\n",
    "l = [2, 3, 4, 5, 5, 6, 7, 8]\n",
    "def RemDup(l):\n",
    "    return list(set(l))\n",
    "l=RemDup(l)\n",
    "l"
   ]
  },
  {
   "cell_type": "code",
   "execution_count": null,
   "metadata": {},
   "outputs": [],
   "source": [
    "#Question 21\n",
    "list1 = [1, 2, 3, 4, 5]\n",
    "list2 = [3, 4, 5, 6, 7]\n",
    "\n",
    "common_elements = [x for x in list1 if x in list2]\n",
    "print(common_elements)\n"
   ]
  },
  {
   "cell_type": "code",
   "execution_count": 45,
   "metadata": {},
   "outputs": [
    {
     "name": "stdout",
     "output_type": "stream",
     "text": [
      "{1, 2, 6}\n"
     ]
    }
   ],
   "source": [
    "#Question 22\n",
    "l1=[6,4,1,2]\n",
    "l2=[3,4,9,0]\n",
    "difference = set(l1).difference(set(l2))\n",
    "print(difference)"
   ]
  },
  {
   "cell_type": "code",
   "execution_count": 46,
   "metadata": {},
   "outputs": [
    {
     "data": {
      "text/plain": [
       "[6, 4, 1, 2, 3, 4, 9, 0]"
      ]
     },
     "execution_count": 46,
     "metadata": {},
     "output_type": "execute_result"
    }
   ],
   "source": [
    "#Question 23\n",
    "l1=[6,4,1,2]\n",
    "l2=[3,4,9,0]\n",
    "joined_list = [*l1, *l2]\n",
    "joined_list"
   ]
  },
  {
   "cell_type": "code",
   "execution_count": 47,
   "metadata": {},
   "outputs": [
    {
     "data": {
      "text/plain": [
       "[0, 2, 4, 6, 8, 10, 12, 14, 16, 18, 20]"
      ]
     },
     "execution_count": 47,
     "metadata": {},
     "output_type": "execute_result"
    }
   ],
   "source": [
    "#Question 24\n",
    "l=[x*2 for x in range(0,11)]\n",
    "l"
   ]
  },
  {
   "cell_type": "code",
   "execution_count": 4,
   "metadata": {},
   "outputs": [
    {
     "name": "stdout",
     "output_type": "stream",
     "text": [
      "[2, 4, 6, 8, 10]\n"
     ]
    }
   ],
   "source": [
    "#Question 25\n",
    "l=[1,2,3,4,5,6,7,8,9,10]\n",
    "def remEven(l):\n",
    "    return [x for x in l if x % 2 == 0]\n",
    "remEven(l)\n",
    "            "
   ]
  },
  {
   "cell_type": "code",
   "execution_count": 5,
   "metadata": {},
   "outputs": [
    {
     "data": {
      "text/plain": [
       "[1, 2, 3, 4]"
      ]
     },
     "execution_count": 5,
     "metadata": {},
     "output_type": "execute_result"
    }
   ],
   "source": [
    "#Question 26\n",
    "l=[\"1\",\"2\",\"3\",\"4\"]\n",
    "up = [int(x) for x in l]\n",
    "up\n"
   ]
  },
  {
   "cell_type": "code",
   "execution_count": 6,
   "metadata": {},
   "outputs": [
    {
     "data": {
      "text/plain": [
       "['1', '2', '3', '4']"
      ]
     },
     "execution_count": 6,
     "metadata": {},
     "output_type": "execute_result"
    }
   ],
   "source": [
    "#Question 27\n",
    "l=[1,2,3,4]\n",
    "up = [str(x) for x in l]\n",
    "up"
   ]
  },
  {
   "cell_type": "code",
   "execution_count": 3,
   "metadata": {},
   "outputs": [
    {
     "name": "stdout",
     "output_type": "stream",
     "text": [
      "[1, 2, 3, 4, 5, 6, 7, 8, 9]\n"
     ]
    }
   ],
   "source": [
    "#Question 28\n",
    "nested_list = [[1, 2, 3], [4, 5, 6], [7, 8, 9]]\n",
    "list = [x for sublist in nested_list for x in sublist]\n",
    "print(list)\n"
   ]
  },
  {
   "cell_type": "code",
   "execution_count": 4,
   "metadata": {},
   "outputs": [
    {
     "data": {
      "text/plain": [
       "[0, 1, 1, 2, 3, 5, 8, 13]"
      ]
     },
     "execution_count": 4,
     "metadata": {},
     "output_type": "execute_result"
    }
   ],
   "source": [
    "#Question 29\n",
    "def fib(n):\n",
    "    fibonnaci=[0,1]\n",
    "    for i in range(2,n):\n",
    "        next = fibonnaci[i - 1] + fibonnaci[i - 2]\n",
    "        fibonnaci.append(next)\n",
    "    return fibonnaci\n",
    "fib(8)\n"
   ]
  },
  {
   "cell_type": "code",
   "execution_count": 8,
   "metadata": {},
   "outputs": [
    {
     "name": "stdout",
     "output_type": "stream",
     "text": [
      "Not sorted\n"
     ]
    }
   ],
   "source": [
    "#Question 30\n",
    "l = [8,3,1,6,8]\n",
    "def issorted(l):\n",
    "    i=0\n",
    "    while(i<len(l)):\n",
    "        if(l[i]<=l[i+1]):\n",
    "            return True\n",
    "        return False\n",
    "        i+=1\n",
    "if(issorted(l)):\n",
    "    print(\"is sorted\")\n",
    "else:\n",
    "    print(\"Not sorted\")"
   ]
  },
  {
   "cell_type": "code",
   "execution_count": 23,
   "metadata": {},
   "outputs": [
    {
     "data": {
      "text/plain": [
       "[5, 6, 1, 2, 3, 4]"
      ]
     },
     "execution_count": 23,
     "metadata": {},
     "output_type": "execute_result"
    }
   ],
   "source": [
    "#Question 31\n",
    "def rotate(l,n):\n",
    "    n=n%len(l)\n",
    "    return l[n:]+l[:n]\n",
    "l=[1, 2, 3, 4, 5, 6]\n",
    "\n",
    "rotate(l,4)\n"
   ]
  },
  {
   "cell_type": "code",
   "execution_count": 24,
   "metadata": {},
   "outputs": [
    {
     "data": {
      "text/plain": [
       "[3, 4, 5, 6, 1, 2]"
      ]
     },
     "execution_count": 24,
     "metadata": {},
     "output_type": "execute_result"
    }
   ],
   "source": [
    "#Question 32\n",
    "def rotate(l,n):\n",
    "    n=n%len(l)\n",
    "    return l[-n:]+l[:-n]\n",
    "l=[1, 2, 3, 4, 5, 6]\n",
    "\n",
    "rotate(l,4)\n"
   ]
  },
  {
   "cell_type": "code",
   "execution_count": 38,
   "metadata": {},
   "outputs": [
    {
     "data": {
      "text/plain": [
       "[2, 3, 5, 7, 11, 13, 17, 19, 23]"
      ]
     },
     "execution_count": 38,
     "metadata": {},
     "output_type": "execute_result"
    }
   ],
   "source": [
    "#Question 33\n",
    "def is_prime(n):\n",
    "    if n <= 1:\n",
    "        return False\n",
    "    for i in range(2, int(n**0.5) + 1):\n",
    "        if n % i == 0:\n",
    "            return False\n",
    "    return True\n",
    "\n",
    "l=[x for x in range(2,50) if is_prime(x)]\n",
    "l"
   ]
  },
  {
   "cell_type": "code",
   "execution_count": 2,
   "metadata": {},
   "outputs": [
    {
     "name": "stdout",
     "output_type": "stream",
     "text": [
      "[[1, 2], [3, 4], [5, 6], [7, 8]]\n"
     ]
    }
   ],
   "source": [
    "#Question 34\n",
    "my_list = [1, 2, 3, 4, 5, 6, 7, 8]\n",
    "\n",
    "def divide_chunks(l, n):\n",
    "    for i in range(0, len(l), n):\n",
    "        yield l[i:i + n]\n",
    "\n",
    "# Using the generator in a loop or converting it to a list\n",
    "result = list(divide_chunks(my_list, 2))\n",
    "result\n"
   ]
  },
  {
   "cell_type": "code",
   "execution_count": 11,
   "metadata": {},
   "outputs": [
    {
     "data": {
      "text/plain": [
       "3"
      ]
     },
     "execution_count": 11,
     "metadata": {},
     "output_type": "execute_result"
    }
   ],
   "source": [
    "#Question 35\n",
    "l=[3,4,2,1]\n",
    "def secondmaxi(l):\n",
    "    l=sorted(l)\n",
    "    return l[-2]\n",
    "secondmax=secondmaxi(l)\n",
    "secondmax"
   ]
  },
  {
   "cell_type": "code",
   "execution_count": 4,
   "metadata": {},
   "outputs": [
    {
     "data": {
      "text/plain": [
       "[4, 16, 36, 81, 100]"
      ]
     },
     "execution_count": 4,
     "metadata": {},
     "output_type": "execute_result"
    }
   ],
   "source": [
    "#Question 36\n",
    "l=[2,4,6,9,10]\n",
    "new_l = [x**2 for x in l]\n",
    "new_l\n"
   ]
  },
  {
   "cell_type": "code",
   "execution_count": 4,
   "metadata": {},
   "outputs": [
    {
     "name": "stdout",
     "output_type": "stream",
     "text": [
      "{'Mitchell': 0, 'Joe': 1, 'James': 2}\n"
     ]
    }
   ],
   "source": [
    "#Question 37\n",
    "my_list = ['Mitchell', 'Joe', 'James',]\n",
    "my_dict = {element: index for index, element in enumerate(my_list)}\n",
    "print(my_dict)"
   ]
  },
  {
   "cell_type": "code",
   "execution_count": 6,
   "metadata": {},
   "outputs": [
    {
     "data": {
      "text/plain": [
       "[9, 3, 2, 10, 6, 7, 5, 8, 4, 1]"
      ]
     },
     "execution_count": 6,
     "metadata": {},
     "output_type": "execute_result"
    }
   ],
   "source": [
    "#Question 38\n",
    "import random\n",
    "my_list = [1, 2, 3, 4, 5, 6, 7, 8, 9, 10]|\n",
    "random.shuffle(my_list)\n",
    "my_list"
   ]
  },
  {
   "cell_type": "code",
   "execution_count": 8,
   "metadata": {},
   "outputs": [
    {
     "data": {
      "text/plain": [
       "[1, 2, 9, 64, 625, 7776, 117649, 2097152, 43046721]"
      ]
     },
     "execution_count": 8,
     "metadata": {},
     "output_type": "execute_result"
    }
   ],
   "source": [
    "#Question 39\n",
    "def fact(n):\n",
    "    product=1\n",
    "    for i in range(1,n):\n",
    "        product=product*n\n",
    "    return product\n",
    "l=[]\n",
    "for x in range(1,10):\n",
    "    l.append(fact(x))\n",
    "l"
   ]
  },
  {
   "cell_type": "code",
   "execution_count": 4,
   "metadata": {},
   "outputs": [
    {
     "data": {
      "text/plain": [
       "3"
      ]
     },
     "execution_count": 4,
     "metadata": {},
     "output_type": "execute_result"
    }
   ],
   "source": [
    "#Question 40\n",
    "l1 = [1, 2, 3]\n",
    "l2 = [3, 4, 5]\n",
    "def common(l1,l2):\n",
    "    for x in l1:\n",
    "        if x in l2:\n",
    "            return x\n",
    "    return -1\n",
    "element = common(l1,l2)\n",
    "element\n",
    "        \n",
    "        \n"
   ]
  },
  {
   "cell_type": "code",
   "execution_count": 9,
   "metadata": {},
   "outputs": [
    {
     "data": {
      "text/plain": [
       "[]"
      ]
     },
     "execution_count": 9,
     "metadata": {},
     "output_type": "execute_result"
    }
   ],
   "source": [
    "#Question 41\n",
    "l1=[1,2,3,4]\n",
    "l1.clear()\n",
    "l1"
   ]
  },
  {
   "cell_type": "code",
   "execution_count": 12,
   "metadata": {},
   "outputs": [
    {
     "data": {
      "text/plain": [
       "[0, 0, 0, 1, 2, 3]"
      ]
     },
     "execution_count": 12,
     "metadata": {},
     "output_type": "execute_result"
    }
   ],
   "source": [
    "#Question 42\n",
    "def replacewith0(l):\n",
    "    for i in range(0,len(l)):\n",
    "        if(l[i]<0):\n",
    "            l[i]=0\n",
    "    return l\n",
    "\n",
    "l=[-2,-1,0,1,2,3]\n",
    "replacewith0(l)\n",
    "        "
   ]
  },
  {
   "cell_type": "code",
   "execution_count": 19,
   "metadata": {},
   "outputs": [
    {
     "data": {
      "text/plain": [
       "['pwskills', 'is', 'good']"
      ]
     },
     "execution_count": 19,
     "metadata": {},
     "output_type": "execute_result"
    }
   ],
   "source": [
    "#Question 43\n",
    "s = \"pwskills is good\"\n",
    "s=s.split()\n",
    "s"
   ]
  },
  {
   "cell_type": "code",
   "execution_count": 22,
   "metadata": {},
   "outputs": [
    {
     "name": "stdout",
     "output_type": "stream",
     "text": [
      "😀\n"
     ]
    }
   ],
   "source": [
    "#Random\n",
    "print(\"\\U0001F600\")"
   ]
  },
  {
   "cell_type": "code",
   "execution_count": 26,
   "metadata": {},
   "outputs": [
    {
     "data": {
      "text/plain": [
       "'pwskills is good'"
      ]
     },
     "execution_count": 26,
     "metadata": {},
     "output_type": "execute_result"
    }
   ],
   "source": [
    "#Question 44\n",
    "l=['pwskills', 'is', 'good']\n",
    "new_l = ' '.join(l)\n",
    "new_l"
   ]
  },
  {
   "cell_type": "code",
   "execution_count": 29,
   "metadata": {},
   "outputs": [
    {
     "data": {
      "text/plain": [
       "[1, 2, 4, 8, 16, 32, 64, 128, 256, 512]"
      ]
     },
     "execution_count": 29,
     "metadata": {},
     "output_type": "execute_result"
    }
   ],
   "source": [
    "#Question 45\n",
    "def power_of_2(n):\n",
    "    return 2**n\n",
    "\n",
    "l = [power_of_2(x) for x in range(0, 10)]\n",
    "l\n"
   ]
  },
  {
   "cell_type": "code",
   "execution_count": 30,
   "metadata": {},
   "outputs": [
    {
     "data": {
      "text/plain": [
       "'neutral'"
      ]
     },
     "execution_count": 30,
     "metadata": {},
     "output_type": "execute_result"
    }
   ],
   "source": [
    "#Question 46\n",
    "string_list=[\"yes\",\"no\",\"neutral\"]\n",
    "longest_string = \"\"\n",
    "for s in string_list:\n",
    "    if len(s) > len(longest_string):\n",
    "        longest_string = s\n",
    "\n",
    "longest_string"
   ]
  },
  {
   "cell_type": "code",
   "execution_count": 32,
   "metadata": {},
   "outputs": [
    {
     "data": {
      "text/plain": [
       "'no'"
      ]
     },
     "execution_count": 32,
     "metadata": {},
     "output_type": "execute_result"
    }
   ],
   "source": [
    "#Question 47\n",
    "string_list=[\"yes\",\"no\",\"neutral\"]\n",
    "longest_string = string_list[0]\n",
    "for s in string_list:\n",
    "    if len(s) <len(shortest_string):\n",
    "        shortest_string = s\n",
    "\n",
    "shortest_string"
   ]
  },
  {
   "cell_type": "code",
   "execution_count": 45,
   "metadata": {},
   "outputs": [
    {
     "data": {
      "text/plain": [
       "[1, 3, 6, 10, 15, 21, 28, 36, 45]"
      ]
     },
     "execution_count": 45,
     "metadata": {},
     "output_type": "execute_result"
    }
   ],
   "source": [
    "#Question 48\n",
    "def triNumber(n):\n",
    "    return int(n*(n+1)/2)\n",
    "l=[triNumber(x) for x in range(1,10)]\n",
    "l"
   ]
  },
  {
   "cell_type": "code",
   "execution_count": 48,
   "metadata": {},
   "outputs": [
    {
     "data": {
      "text/plain": [
       "True"
      ]
     },
     "execution_count": 48,
     "metadata": {},
     "output_type": "execute_result"
    }
   ],
   "source": [
    "#Question 49\n",
    "def removeEle(A, B):\n",
    "    n = len(A)\n",
    "    return any(A == B[i:i + n] for i in range(len(B)-n + 1))\n",
    "A = [1, 2]\n",
    "B = [1,2,3,4]\n",
    " \n",
    "removeEle(A, B)"
   ]
  },
  {
   "cell_type": "code",
   "execution_count": 49,
   "metadata": {},
   "outputs": [
    {
     "data": {
      "text/plain": [
       "[1, 6, 3, 4, 5, 2, 7]"
      ]
     },
     "execution_count": 49,
     "metadata": {},
     "output_type": "execute_result"
    }
   ],
   "source": [
    "#Question 50\n",
    "org_index=5\n",
    "swapped_index = 1\n",
    "def swap(l,m,n):\n",
    "    for i in range(0,len(l)):\n",
    "        temp = l[m]\n",
    "        l[m] = l[n]\n",
    "        l[n] = temp\n",
    "    return l\n",
    "l=[1,2,3,4,5,6,7]\n",
    "swap(l,org_index,swapped_index)"
   ]
  },
  {
   "cell_type": "code",
   "execution_count": null,
   "metadata": {},
   "outputs": [],
   "source": [
    "#Tuple Based Practice Problem"
   ]
  },
  {
   "cell_type": "code",
   "execution_count": 1,
   "metadata": {},
   "outputs": [
    {
     "data": {
      "text/plain": [
       "(1, 2, 3, 4, 5)"
      ]
     },
     "execution_count": 1,
     "metadata": {},
     "output_type": "execute_result"
    }
   ],
   "source": [
    "#Exercise 1\n",
    "t1=(1,2,3,4,5)\n",
    "t1"
   ]
  },
  {
   "cell_type": "code",
   "execution_count": 2,
   "metadata": {},
   "outputs": [
    {
     "data": {
      "text/plain": [
       "3"
      ]
     },
     "execution_count": 2,
     "metadata": {},
     "output_type": "execute_result"
    }
   ],
   "source": [
    "#Exercise 2\n",
    "t=(1,2,3,4,5)\n",
    "t[2]"
   ]
  },
  {
   "cell_type": "code",
   "execution_count": 8,
   "metadata": {},
   "outputs": [
    {
     "data": {
      "text/plain": [
       "5"
      ]
     },
     "execution_count": 8,
     "metadata": {},
     "output_type": "execute_result"
    }
   ],
   "source": [
    "#Exercise 3\n",
    "t1=(1,2,3,4,5)\n",
    "def length(t):\n",
    "    count = 0\n",
    "    for i in t:\n",
    "        count+=1\n",
    "    return count\n",
    "length(t1)"
   ]
  },
  {
   "cell_type": "code",
   "execution_count": 6,
   "metadata": {},
   "outputs": [
    {
     "data": {
      "text/plain": [
       "2"
      ]
     },
     "execution_count": 6,
     "metadata": {},
     "output_type": "execute_result"
    }
   ],
   "source": [
    "#Exercise 4\n",
    "s = \"pwskills\"\n",
    "s = tuple(s)\n",
    "target='s'\n",
    "s.count(target)"
   ]
  },
  {
   "cell_type": "code",
   "execution_count": 13,
   "metadata": {},
   "outputs": [
    {
     "data": {
      "text/plain": [
       "0"
      ]
     },
     "execution_count": 13,
     "metadata": {},
     "output_type": "execute_result"
    }
   ],
   "source": [
    "#Exercise 5\n",
    "s = \"racecars\"\n",
    "s = tuple(s)\n",
    "target = 'r'\n",
    "def first_occ(t,target):\n",
    "    for i in range(0,len(t)):\n",
    "        if(s[i]==target):\n",
    "            return i \n",
    "            break\n",
    "    return -1\n",
    "first_occ(t,target)"
   ]
  },
  {
   "cell_type": "code",
   "execution_count": 14,
   "metadata": {},
   "outputs": [
    {
     "name": "stdout",
     "output_type": "stream",
     "text": [
      "exists\n"
     ]
    }
   ],
   "source": [
    "#Exercise 6\n",
    "s = \"racecars\"\n",
    "s = tuple(s)\n",
    "target = 'r'\n",
    "def exists(t, target):\n",
    "    for i in s:\n",
    "        if(s==i):\n",
    "            return True\n",
    "    return False\n",
    "if(exists):\n",
    "    print(\"exists\")\n",
    "else:\n",
    "    print(\"Does not exist\")"
   ]
  },
  {
   "cell_type": "code",
   "execution_count": 18,
   "metadata": {},
   "outputs": [
    {
     "data": {
      "text/plain": [
       "[1, 2, 3, 4, 5]"
      ]
     },
     "execution_count": 18,
     "metadata": {},
     "output_type": "execute_result"
    }
   ],
   "source": [
    "#Exercise 7\n",
    "t=(1,2,3,4,5)\n",
    "list(t)\n"
   ]
  },
  {
   "cell_type": "code",
   "execution_count": 17,
   "metadata": {},
   "outputs": [
    {
     "data": {
      "text/plain": [
       "(1, 2, 3, 5, 6)"
      ]
     },
     "execution_count": 17,
     "metadata": {},
     "output_type": "execute_result"
    }
   ],
   "source": [
    "#Exercise 8\n",
    "l=[1,2,3,5,6]\n",
    "tuple(l)"
   ]
  },
  {
   "cell_type": "code",
   "execution_count": 21,
   "metadata": {},
   "outputs": [
    {
     "name": "stdout",
     "output_type": "stream",
     "text": [
      "1 2 3\n"
     ]
    }
   ],
   "source": [
    "#Exercise 9\n",
    "t = (1, 2, 3)\n",
    "x, y, z = t\n",
    "print(x,y,z)\n"
   ]
  },
  {
   "cell_type": "code",
   "execution_count": 23,
   "metadata": {},
   "outputs": [
    {
     "data": {
      "text/plain": [
       "(0, 2, 4, 6, 8, 10)"
      ]
     },
     "execution_count": 23,
     "metadata": {},
     "output_type": "execute_result"
    }
   ],
   "source": [
    "#Exercise 10\n",
    "s =()\n",
    "s=list(s)\n",
    "for i in range(0,11):\n",
    "    if(i%2==0):\n",
    "        s.append(i)\n",
    "s=tuple(s)\n",
    "s\n"
   ]
  },
  {
   "cell_type": "code",
   "execution_count": 24,
   "metadata": {},
   "outputs": [
    {
     "data": {
      "text/plain": [
       "(1, 3, 5, 7, 9)"
      ]
     },
     "execution_count": 24,
     "metadata": {},
     "output_type": "execute_result"
    }
   ],
   "source": [
    "#Exercise 11\n",
    "s =()\n",
    "s=list(s)\n",
    "for i in range(0,11):\n",
    "    if(i%2!=0):\n",
    "        s.append(i)\n",
    "s=tuple(s)\n",
    "s\n"
   ]
  },
  {
   "cell_type": "code",
   "execution_count": 26,
   "metadata": {},
   "outputs": [
    {
     "data": {
      "text/plain": [
       "(1, 2, 3, 4, 5, 6)"
      ]
     },
     "execution_count": 26,
     "metadata": {},
     "output_type": "execute_result"
    }
   ],
   "source": [
    "#Exercise 12\n",
    "s1=(1,2,3)\n",
    "s2=(4,5,6)\n",
    "s1+s2"
   ]
  },
  {
   "cell_type": "code",
   "execution_count": 27,
   "metadata": {},
   "outputs": [
    {
     "data": {
      "text/plain": [
       "(1, 2, 3, 1, 2, 3, 1, 2, 3)"
      ]
     },
     "execution_count": 27,
     "metadata": {},
     "output_type": "execute_result"
    }
   ],
   "source": [
    "#Exercise 13\n",
    "s=(1,2,3)\n",
    "s*3"
   ]
  },
  {
   "cell_type": "code",
   "execution_count": 32,
   "metadata": {},
   "outputs": [
    {
     "name": "stdout",
     "output_type": "stream",
     "text": [
      "Empty\n"
     ]
    }
   ],
   "source": [
    "#Exercise 14\n",
    "def is_empty(t):\n",
    "    if(len(t)==0):\n",
    "        return True\n",
    "    return False\n",
    "t=()\n",
    "if(is_empty(t)):\n",
    "    print(\"Empty\")\n",
    "else:\n",
    "    print(\"Not empty\")"
   ]
  },
  {
   "cell_type": "code",
   "execution_count": 31,
   "metadata": {},
   "outputs": [
    {
     "data": {
      "text/plain": [
       "((1, 2, 3), (2, 5, 6), (8, 5, 6))"
      ]
     },
     "execution_count": 31,
     "metadata": {},
     "output_type": "execute_result"
    }
   ],
   "source": [
    "#Exercise 15\n",
    "nested_t=((1,2,3),(2,5,6),(8,5,6))\n",
    "nested_t"
   ]
  },
  {
   "cell_type": "code",
   "execution_count": 33,
   "metadata": {},
   "outputs": [
    {
     "data": {
      "text/plain": [
       "(2, 5, 6)"
      ]
     },
     "execution_count": 33,
     "metadata": {},
     "output_type": "execute_result"
    }
   ],
   "source": [
    "#Exercise 16\n",
    "nested_t=((1,2,3),(2,5,6),(8,5,6))\n",
    "nested_t[1]"
   ]
  },
  {
   "cell_type": "code",
   "execution_count": 34,
   "metadata": {},
   "outputs": [
    {
     "data": {
      "text/plain": [
       "(4,)"
      ]
     },
     "execution_count": 34,
     "metadata": {},
     "output_type": "execute_result"
    }
   ],
   "source": [
    "#Exercise 17\n",
    "t = (4,)\n",
    "t"
   ]
  },
  {
   "cell_type": "code",
   "execution_count": 35,
   "metadata": {},
   "outputs": [
    {
     "name": "stdout",
     "output_type": "stream",
     "text": [
      "False\n",
      "True\n",
      "True\n",
      "True\n",
      "False\n",
      "False\n"
     ]
    }
   ],
   "source": [
    "#Exercise 18\n",
    "tuple1 = (1, 2, 3)\n",
    "tuple2 = (2,3,4)\n",
    "print(tuple1 == tuple2)\n",
    "print(tuple1 != tuple2)\n",
    "print(tuple1 < tuple2)\n",
    "print(tuple1 <= tuple2)\n",
    "print( tuple1 > tuple2)\n",
    "print(tuple1 >= tuple2)"
   ]
  },
  {
   "cell_type": "code",
   "execution_count": 36,
   "metadata": {},
   "outputs": [
    {
     "ename": "NameError",
     "evalue": "name 't' is not defined",
     "output_type": "error",
     "traceback": [
      "\u001b[1;31m---------------------------------------------------------------------------\u001b[0m",
      "\u001b[1;31mNameError\u001b[0m                                 Traceback (most recent call last)",
      "Cell \u001b[1;32mIn[36], line 5\u001b[0m\n\u001b[0;32m      3\u001b[0m t \u001b[38;5;241m=\u001b[39m (\u001b[38;5;241m1\u001b[39m, \u001b[38;5;241m2\u001b[39m, \u001b[38;5;241m3\u001b[39m, \u001b[38;5;241m4\u001b[39m, \u001b[38;5;241m5\u001b[39m)\n\u001b[0;32m      4\u001b[0m \u001b[38;5;28;01mdel\u001b[39;00m t\n\u001b[1;32m----> 5\u001b[0m \u001b[43mt\u001b[49m\n",
      "\u001b[1;31mNameError\u001b[0m: name 't' is not defined"
     ]
    }
   ],
   "source": [
    "#Exercise 19\n",
    "t = (1, 2, 3, 4, 5)\n",
    "del t\n",
    "t"
   ]
  },
  {
   "cell_type": "code",
   "execution_count": 1,
   "metadata": {},
   "outputs": [
    {
     "data": {
      "text/plain": [
       "(1, 2, 3, 4)"
      ]
     },
     "execution_count": 1,
     "metadata": {},
     "output_type": "execute_result"
    }
   ],
   "source": [
    "#Exercise 20\n",
    "t = (1,2,3,4,5,6,7,8)\n",
    "t[:4]"
   ]
  },
  {
   "cell_type": "code",
   "execution_count": 3,
   "metadata": {},
   "outputs": [
    {
     "data": {
      "text/plain": [
       "9"
      ]
     },
     "execution_count": 3,
     "metadata": {},
     "output_type": "execute_result"
    }
   ],
   "source": [
    "#Exercise 21\n",
    "t=(4,3,5,8,9)\n",
    "max(l)"
   ]
  },
  {
   "cell_type": "code",
   "execution_count": 4,
   "metadata": {},
   "outputs": [
    {
     "data": {
      "text/plain": [
       "3"
      ]
     },
     "execution_count": 4,
     "metadata": {},
     "output_type": "execute_result"
    }
   ],
   "source": [
    "#Exercise 22\n",
    "t=(4,3,5,8,9)\n",
    "min(l)"
   ]
  },
  {
   "cell_type": "code",
   "execution_count": 5,
   "metadata": {},
   "outputs": [
    {
     "data": {
      "text/plain": [
       "('p', 'w', 's', 'k', 'i', 'l', 'l', 's')"
      ]
     },
     "execution_count": 5,
     "metadata": {},
     "output_type": "execute_result"
    }
   ],
   "source": [
    "#Exercise 23\n",
    "s=\"pwskills\"\n",
    "tuple(s)"
   ]
  },
  {
   "cell_type": "code",
   "execution_count": 8,
   "metadata": {},
   "outputs": [
    {
     "data": {
      "text/plain": [
       "'pwskills'"
      ]
     },
     "execution_count": 8,
     "metadata": {},
     "output_type": "execute_result"
    }
   ],
   "source": [
    "#Exercise 24\n",
    "t=('p', 'w', 's', 'k', 'i', 'l', 'l', 's')\n",
    "up_str = ''.join(t)\n",
    "up_str"
   ]
  },
  {
   "cell_type": "code",
   "execution_count": 9,
   "metadata": {},
   "outputs": [
    {
     "data": {
      "text/plain": [
       "('yes', 2, 3.14, False, [1, 2, 3])"
      ]
     },
     "execution_count": 9,
     "metadata": {},
     "output_type": "execute_result"
    }
   ],
   "source": [
    "#Exercise 25\n",
    "m=(\"yes\",2,3.14,False,[1,2,3])\n",
    "m"
   ]
  },
  {
   "cell_type": "code",
   "execution_count": 10,
   "metadata": {},
   "outputs": [
    {
     "name": "stdout",
     "output_type": "stream",
     "text": [
      "True\n"
     ]
    }
   ],
   "source": [
    "#Exercise 26\n",
    "t=(1,2,3)\n",
    "t1=(1,2,3)\n",
    "if(t==t1):\n",
    "    print(\"True\")\n",
    "else:\n",
    "    print(\"False\")"
   ]
  },
  {
   "cell_type": "code",
   "execution_count": 11,
   "metadata": {},
   "outputs": [
    {
     "data": {
      "text/plain": [
       "[1, 3, 5, 6, 8, 9]"
      ]
     },
     "execution_count": 11,
     "metadata": {},
     "output_type": "execute_result"
    }
   ],
   "source": [
    "#Exercise 27\n",
    "t=(6,3,5,8,9,1)\n",
    "sorted(t)"
   ]
  },
  {
   "cell_type": "code",
   "execution_count": 15,
   "metadata": {},
   "outputs": [
    {
     "data": {
      "text/plain": [
       "('1', '2', '3', '4', '5', '6')"
      ]
     },
     "execution_count": 15,
     "metadata": {},
     "output_type": "execute_result"
    }
   ],
   "source": [
    "#Exercise 28\n",
    "t=(1,2,3,4,5,6)\n",
    "t1=tuple(str(x) for x in t)\n",
    "t1"
   ]
  },
  {
   "cell_type": "code",
   "execution_count": 16,
   "metadata": {},
   "outputs": [
    {
     "data": {
      "text/plain": [
       "(1, 2, 3, 4, 5, 6)"
      ]
     },
     "execution_count": 16,
     "metadata": {},
     "output_type": "execute_result"
    }
   ],
   "source": [
    "#Exercise 29\n",
    "t=('1', '2', '3', '4', '5', '6')\n",
    "t1 = tuple(int(x) for x in t)\n",
    "t1"
   ]
  },
  {
   "cell_type": "code",
   "execution_count": 17,
   "metadata": {},
   "outputs": [
    {
     "data": {
      "text/plain": [
       "(1, 2, 3, 4, 5, 6, 7)"
      ]
     },
     "execution_count": 17,
     "metadata": {},
     "output_type": "execute_result"
    }
   ],
   "source": [
    "#Exercise 30\n",
    "t1 = (1,2,3,4)\n",
    "t2=(5,6,7)\n",
    "t1+t2"
   ]
  },
  {
   "cell_type": "code",
   "execution_count": 18,
   "metadata": {},
   "outputs": [
    {
     "data": {
      "text/plain": [
       "(1, 2, 3, 4, 5, 6, 7, 8)"
      ]
     },
     "execution_count": 18,
     "metadata": {},
     "output_type": "execute_result"
    }
   ],
   "source": [
    "#Exercise 31\n",
    "def flatten_tuple(nested_tuple):\n",
    "    flattened = []\n",
    "    for item in nested_tuple:\n",
    "        if isinstance(item, tuple):\n",
    "            flattened.extend(flatten_tuple(item))\n",
    "        else:\n",
    "            flattened.append(item)\n",
    "    return flattened\n",
    "\n",
    "\n",
    "nested_tuple = ((1, 2), (3, 4, 5), (6, (7, 8)))\n",
    "\n",
    "\n",
    "tuple(flatten_tuple(nested_tuple))\n",
    "\n"
   ]
  },
  {
   "cell_type": "code",
   "execution_count": 21,
   "metadata": {},
   "outputs": [
    {
     "data": {
      "text/plain": [
       "(2, 3, 5, 7, 11)"
      ]
     },
     "execution_count": 21,
     "metadata": {},
     "output_type": "execute_result"
    }
   ],
   "source": [
    "#Exercise 32\n",
    "def isprime(n):\n",
    "    if n <= 1:\n",
    "        return False\n",
    "    elif n == 2:\n",
    "        return True\n",
    "    elif n % 2 == 0:\n",
    "        return False\n",
    "    else:\n",
    "        for i in range(3, int(n**0.5) + 1, 2):\n",
    "            if n % i == 0:\n",
    "                return False\n",
    "        return True\n",
    "t=tuple(x for x in range(2,50) if isprime(x))\n",
    "t[:5]"
   ]
  },
  {
   "cell_type": "code",
   "execution_count": 27,
   "metadata": {},
   "outputs": [
    {
     "data": {
      "text/plain": [
       "True"
      ]
     },
     "execution_count": 27,
     "metadata": {},
     "output_type": "execute_result"
    }
   ],
   "source": [
    "#Exercise 33\n",
    "t=(1,2,3,2,1)\n",
    "h=len(t)//2\n",
    "def is_palindrome(t):\n",
    "    i=0\n",
    "    while(i<h):\n",
    "        if(t[i]==t[len(t)-i-1]):\n",
    "            i+=1\n",
    "            return True\n",
    "    return False\n",
    "is_palindrome(t)\n",
    "        \n",
    "    "
   ]
  },
  {
   "cell_type": "code",
   "execution_count": 28,
   "metadata": {},
   "outputs": [
    {
     "data": {
      "text/plain": [
       "(1, 4, 9, 16, 25)"
      ]
     },
     "execution_count": 28,
     "metadata": {},
     "output_type": "execute_result"
    }
   ],
   "source": [
    "#Exercise 34\n",
    "t=(1,2,3,4,5)\n",
    "up_t=tuple(x**2 for x in t)\n",
    "up_t"
   ]
  },
  {
   "cell_type": "code",
   "execution_count": 30,
   "metadata": {},
   "outputs": [
    {
     "data": {
      "text/plain": [
       "(2, 4, 6, 8, 10, 12)"
      ]
     },
     "execution_count": 30,
     "metadata": {},
     "output_type": "execute_result"
    }
   ],
   "source": [
    "#Exercise 35\n",
    "t=(1,2,3,4,5,6,7,8,9,10,11,12)\n",
    "t1=tuple(x for x in t if(x%2==0))\n",
    "t1"
   ]
  },
  {
   "cell_type": "code",
   "execution_count": 32,
   "metadata": {},
   "outputs": [
    {
     "data": {
      "text/plain": [
       "(2, 4, 6, 8, 10, 12, 14, 16, 18, 20, 22, 24)"
      ]
     },
     "execution_count": 32,
     "metadata": {},
     "output_type": "execute_result"
    }
   ],
   "source": [
    "#Exercise 36\n",
    "t=(1,2,3,4,5,6,7,8,9,10,11,12)\n",
    "t1=tuple(2*x for x in t)\n",
    "t1"
   ]
  },
  {
   "cell_type": "code",
   "execution_count": 35,
   "metadata": {},
   "outputs": [
    {
     "data": {
      "text/plain": [
       "(9, 3, 3, 8, 7)"
      ]
     },
     "execution_count": 35,
     "metadata": {},
     "output_type": "execute_result"
    }
   ],
   "source": [
    "#Exercise 37\n",
    "import random\n",
    "random_tuple = tuple(random.randint(1, 10) for _ in range(5))\n",
    "random_tuple"
   ]
  },
  {
   "cell_type": "code",
   "execution_count": 1,
   "metadata": {},
   "outputs": [
    {
     "name": "stdout",
     "output_type": "stream",
     "text": [
      "Is sorted\n"
     ]
    }
   ],
   "source": [
    "#Exercise 38\n",
    "t = (1, 2, 3, 4)\n",
    "def issorted(t):\n",
    "    i = 0\n",
    "    while i < len(t) - 1:\n",
    "        if t[i] > t[i + 1]:\n",
    "            return False\n",
    "        i += 1\n",
    "    return True\n",
    "\n",
    "if issorted(t):\n",
    "    print(\"Is sorted\")\n",
    "else:\n",
    "    print(\"Not sorted\")\n"
   ]
  },
  {
   "cell_type": "code",
   "execution_count": 4,
   "metadata": {},
   "outputs": [
    {
     "data": {
      "text/plain": [
       "(3, 4, 5, 1, 2)"
      ]
     },
     "execution_count": 4,
     "metadata": {},
     "output_type": "execute_result"
    }
   ],
   "source": [
    "#Exercise 39\n",
    "t=(1,2,3,4,5)\n",
    "n=2\n",
    "rotated_t = t[n:] + t[:n]\n",
    "rotated_t"
   ]
  },
  {
   "cell_type": "code",
   "execution_count": 5,
   "metadata": {},
   "outputs": [
    {
     "data": {
      "text/plain": [
       "(4, 5, 1, 2, 3)"
      ]
     },
     "execution_count": 5,
     "metadata": {},
     "output_type": "execute_result"
    }
   ],
   "source": [
    "#Exercise 40\n",
    "t=(1,2,3,4,5)\n",
    "n=2\n",
    "rotated_t = t[-n:] + t[:-n]\n",
    "rotated_t"
   ]
  },
  {
   "cell_type": "code",
   "execution_count": 1,
   "metadata": {},
   "outputs": [
    {
     "data": {
      "text/plain": [
       "(0, 1, 1, 2, 3, 5, 8, 13, 21)"
      ]
     },
     "execution_count": 1,
     "metadata": {},
     "output_type": "execute_result"
    }
   ],
   "source": [
    "#Exercise 41\n",
    "def fib(n):\n",
    "    f = [0, 1] \n",
    "    while len(f) < n:\n",
    "        nextTerm = f[-1] + f[-2]\n",
    "        f.append(nextTerm)\n",
    "    return tuple(f)\n",
    "fib(9)"
   ]
  },
  {
   "cell_type": "code",
   "execution_count": 4,
   "metadata": {},
   "outputs": [
    {
     "name": "stdin",
     "output_type": "stream",
     "text": [
      "enter elements with comma and no spaces 1,2,3,4,5\n"
     ]
    },
    {
     "data": {
      "text/plain": [
       "('1', '2', '3', '4', '5')"
      ]
     },
     "execution_count": 4,
     "metadata": {},
     "output_type": "execute_result"
    }
   ],
   "source": [
    "#Exercise 42\n",
    "inp = input(\"enter elements with comma and no spaces\")\n",
    "tuple(inp.split(','))\n"
   ]
  },
  {
   "cell_type": "code",
   "execution_count": 11,
   "metadata": {},
   "outputs": [
    {
     "data": {
      "text/plain": [
       "(2, 1, 3, 4, 5)"
      ]
     },
     "execution_count": 11,
     "metadata": {},
     "output_type": "execute_result"
    }
   ],
   "source": [
    "#Exercise 43\n",
    "index1 = 0\n",
    "index2 = 1\n",
    "t=(1,2,3,4,5)\n",
    "def swap(t, i1,i2):\n",
    "    t=list(t)\n",
    "    temp = t[index1]\n",
    "    t[index1] = t[index2]\n",
    "    t[index2] = temp\n",
    "    t=tuple(t)\n",
    "    return t\n",
    "    \n",
    "swap(t,index1,index2)"
   ]
  },
  {
   "cell_type": "code",
   "execution_count": 18,
   "metadata": {},
   "outputs": [
    {
     "data": {
      "text/plain": [
       "[5, 4, 3, 2, 1]"
      ]
     },
     "execution_count": 18,
     "metadata": {},
     "output_type": "execute_result"
    }
   ],
   "source": [
    "#Exercise 44\n",
    "def rev(t):\n",
    "    return list(t)[::-1]\n",
    "t=(1,2,3,4,5)\n",
    "rev(t)"
   ]
  },
  {
   "cell_type": "code",
   "execution_count": 14,
   "metadata": {},
   "outputs": [
    {
     "data": {
      "text/plain": [
       "(1, 2, 4, 8, 16, 32, 64, 128, 256)"
      ]
     },
     "execution_count": 14,
     "metadata": {},
     "output_type": "execute_result"
    }
   ],
   "source": [
    "#Exercise 45\n",
    "n=9\n",
    "t = tuple(2**x for x in range(0,n))\n",
    "t"
   ]
  },
  {
   "cell_type": "code",
   "execution_count": 9,
   "metadata": {},
   "outputs": [
    {
     "data": {
      "text/plain": [
       "'hande'"
      ]
     },
     "execution_count": 9,
     "metadata": {},
     "output_type": "execute_result"
    }
   ],
   "source": [
    "#Exercise 46\n",
    "t = (\"Ich\", \"will\", \"eure\", \"hande\",\"sehen\")\n",
    "def long(t):\n",
    "    t = list(t)\n",
    "    max_length = 0\n",
    "    longest_word = \"\"\n",
    "    \n",
    "    for word in t:\n",
    "        if len(word) > max_length:\n",
    "            max_length = len(word)\n",
    "            longest_word = word\n",
    "    \n",
    "    return longest_word  # Modified this line to return the current word, not the variable\n",
    "long(t)"
   ]
  },
  {
   "cell_type": "code",
   "execution_count": 11,
   "metadata": {},
   "outputs": [
    {
     "data": {
      "text/plain": [
       "'My'"
      ]
     },
     "execution_count": 11,
     "metadata": {},
     "output_type": "execute_result"
    }
   ],
   "source": [
    "#Exercise 47\n",
    "t = (\"My\", \"name\", \"is\", \"Viktor\")\n",
    "def long(t):\n",
    "    t = list(t)\n",
    "    max_length = 10000000000000000000000000000000000\n",
    "    longest_word = \"\"\n",
    "    \n",
    "    for word in t:\n",
    "        if len(word) < max_length:\n",
    "            max_length = len(word)\n",
    "            longest_word = word\n",
    "    \n",
    "    return longest_word  # Modified this line to return the current word, not the variable\n",
    "long(t)"
   ]
  },
  {
   "cell_type": "code",
   "execution_count": 16,
   "metadata": {},
   "outputs": [
    {
     "data": {
      "text/plain": [
       "[1, 3, 6, 10, 15, 21, 28, 36, 45]"
      ]
     },
     "execution_count": 16,
     "metadata": {},
     "output_type": "execute_result"
    }
   ],
   "source": [
    "#Exercise 48\n",
    "def triangle(n):\n",
    "    sum = n*(n+1)/2\n",
    "    return sum\n",
    "t=[int(triangle(x)) for x in range(1,10)]\n",
    "t"
   ]
  },
  {
   "cell_type": "code",
   "execution_count": 18,
   "metadata": {},
   "outputs": [
    {
     "name": "stdout",
     "output_type": "stream",
     "text": [
      "The smaller tuple is not a subsequence.\n"
     ]
    }
   ],
   "source": [
    "#Exercise 49\n",
    "def is_subsequence(sub, larger):\n",
    "    sub_len = len(sub)\n",
    "    larger_len = len(larger)\n",
    "\n",
    "    for i in range(larger_len - sub_len + 1):\n",
    "        if larger[i:i + sub_len] == sub:\n",
    "            return True\n",
    "\n",
    "    return False\n",
    "\n",
    "# Example usage:\n",
    "larger_tuple = (1, 2, 3, 4, 5, 6, 7)\n",
    "sub_tuple = (3, 4, 5)\n",
    "\n",
    "if is_subsequence(sub_tuple, larger_tuple):\n",
    "    print(\"The smaller tuple is a subsequence.\")\n",
    "else:\n",
    "    print(\"The smaller tuple is not a subsequence.\")\n"
   ]
  },
  {
   "cell_type": "code",
   "execution_count": 21,
   "metadata": {},
   "outputs": [
    {
     "data": {
      "text/plain": [
       "(1, 0, 1, 0, 1, 0, 1, 0, 1)"
      ]
     },
     "execution_count": 21,
     "metadata": {},
     "output_type": "execute_result"
    }
   ],
   "source": [
    "#Exercise 50\n",
    "def generate(n):\n",
    "    t=[]\n",
    "    for i in range(0,n+1):\n",
    "        if(i%2==0):\n",
    "            t.append(1)\n",
    "        else:\n",
    "            t.append(0)\n",
    "    return tuple(t)\n",
    "generate(8)"
   ]
  },
  {
   "cell_type": "code",
   "execution_count": 23,
   "metadata": {},
   "outputs": [
    {
     "data": {
      "text/plain": [
       "{1, 2, 3}"
      ]
     },
     "execution_count": 23,
     "metadata": {},
     "output_type": "execute_result"
    }
   ],
   "source": [
    "s ={1,2,2,3}\n",
    "s"
   ]
  },
  {
   "cell_type": "code",
   "execution_count": null,
   "metadata": {},
   "outputs": [],
   "source": [
    "#Set Based Practice Problem"
   ]
  },
  {
   "cell_type": "code",
   "execution_count": 2,
   "metadata": {},
   "outputs": [
    {
     "data": {
      "text/plain": [
       "{1, 2, 3, 4, 5}"
      ]
     },
     "execution_count": 2,
     "metadata": {},
     "output_type": "execute_result"
    }
   ],
   "source": [
    "#Question 1\n",
    "s=set()\n",
    "s.add(1)\n",
    "s.add(2)\n",
    "s.add(3)\n",
    "s.add(4)\n",
    "s.add(5)\n",
    "s"
   ]
  },
  {
   "cell_type": "code",
   "execution_count": 3,
   "metadata": {},
   "outputs": [
    {
     "data": {
      "text/plain": [
       "{1, 2, 3, 4, 5}"
      ]
     },
     "execution_count": 3,
     "metadata": {},
     "output_type": "execute_result"
    }
   ],
   "source": [
    "#Question 2\n",
    "org_set={1,2,3,4}\n",
    "org_set.add(5)\n",
    "org_set"
   ]
  },
  {
   "cell_type": "code",
   "execution_count": 4,
   "metadata": {},
   "outputs": [
    {
     "data": {
      "text/plain": [
       "{1, 2, 4}"
      ]
     },
     "execution_count": 4,
     "metadata": {},
     "output_type": "execute_result"
    }
   ],
   "source": [
    "#Question 3\n",
    "org_set={1,2,3,4}\n",
    "org_set.remove(3)\n",
    "org_set"
   ]
  },
  {
   "cell_type": "code",
   "execution_count": 1,
   "metadata": {},
   "outputs": [
    {
     "name": "stdout",
     "output_type": "stream",
     "text": [
      "Present\n"
     ]
    }
   ],
   "source": [
    "#Question 4\n",
    "s={1,2,3,4}\n",
    "target = 3\n",
    "if target in s:\n",
    "    print(\"Present\")\n",
    "else:\n",
    "    print(\"Not Present\")"
   ]
  },
  {
   "cell_type": "code",
   "execution_count": 2,
   "metadata": {},
   "outputs": [
    {
     "data": {
      "text/plain": [
       "4"
      ]
     },
     "execution_count": 2,
     "metadata": {},
     "output_type": "execute_result"
    }
   ],
   "source": [
    "#Question 5\n",
    "s={1,2,3,4}\n",
    "def length(s):\n",
    "    count = 0\n",
    "    for i in s:\n",
    "        count+=1\n",
    "    return count\n",
    "length(s)"
   ]
  },
  {
   "cell_type": "code",
   "execution_count": 9,
   "metadata": {},
   "outputs": [
    {
     "data": {
      "text/plain": [
       "set()"
      ]
     },
     "execution_count": 9,
     "metadata": {},
     "output_type": "execute_result"
    }
   ],
   "source": [
    "#Question 6\n",
    "s={1,2,3,4}\n",
    "s.clear()\n",
    "s"
   ]
  },
  {
   "cell_type": "code",
   "execution_count": 10,
   "metadata": {},
   "outputs": [
    {
     "data": {
      "text/plain": [
       "{2, 4, 6, 8, 10, 12, 14, 16, 18}"
      ]
     },
     "execution_count": 10,
     "metadata": {},
     "output_type": "execute_result"
    }
   ],
   "source": [
    "#Question 7\n",
    "s=set()\n",
    "def even(n,s):\n",
    "    for i in range(1,n):\n",
    "        if(i%2==0):\n",
    "            s.add(i)\n",
    "    return s\n",
    "even(20,s)"
   ]
  },
  {
   "cell_type": "code",
   "execution_count": null,
   "metadata": {},
   "outputs": [],
   "source": [
    "#Question 8\n",
    "s=set()\n",
    "def odd(n,s):\n",
    "    for i in range(1,n):\n",
    "        if(i%2!=0):\n",
    "            s.add(i)\n",
    "    return s\n",
    "odd(20,s)"
   ]
  },
  {
   "cell_type": "code",
   "execution_count": 11,
   "metadata": {},
   "outputs": [
    {
     "data": {
      "text/plain": [
       "{'a', 'b', 'c'}"
      ]
     },
     "execution_count": 11,
     "metadata": {},
     "output_type": "execute_result"
    }
   ],
   "source": [
    "#Question 9\n",
    "s1={\"a\",\"b\"}\n",
    "s2={\"c\",\"a\"}\n",
    "s1.union(s2)"
   ]
  },
  {
   "cell_type": "code",
   "execution_count": 13,
   "metadata": {},
   "outputs": [
    {
     "data": {
      "text/plain": [
       "{'a'}"
      ]
     },
     "execution_count": 13,
     "metadata": {},
     "output_type": "execute_result"
    }
   ],
   "source": [
    "#Question 10\n",
    "s1={\"a\",\"b\"}\n",
    "s2={\"c\",\"a\"}\n",
    "s1.intersection(s2)"
   ]
  },
  {
   "cell_type": "code",
   "execution_count": 14,
   "metadata": {},
   "outputs": [
    {
     "data": {
      "text/plain": [
       "{'b'}"
      ]
     },
     "execution_count": 14,
     "metadata": {},
     "output_type": "execute_result"
    }
   ],
   "source": [
    "#Question 11\n",
    "s1={\"a\",\"b\"}\n",
    "s2={\"c\",\"a\"}\n",
    "s1.difference(s2)"
   ]
  },
  {
   "cell_type": "code",
   "execution_count": 1,
   "metadata": {},
   "outputs": [
    {
     "data": {
      "text/plain": [
       "True"
      ]
     },
     "execution_count": 1,
     "metadata": {},
     "output_type": "execute_result"
    }
   ],
   "source": [
    "#Question 12\n",
    "s1={\"a\",\"b\",\"c\",\"d\"}\n",
    "s2={\"b\",\"c\"}\n",
    "s2.issubset(s1)"
   ]
  },
  {
   "cell_type": "code",
   "execution_count": 21,
   "metadata": {},
   "outputs": [
    {
     "data": {
      "text/plain": [
       "True"
      ]
     },
     "execution_count": 21,
     "metadata": {},
     "output_type": "execute_result"
    }
   ],
   "source": [
    "#Question 13\n",
    "s1={\"a\",\"b\",\"c\",\"d\"}\n",
    "s2={\"b\",\"c\"}\n",
    "s2.issubset(s1)"
   ]
  },
  {
   "cell_type": "code",
   "execution_count": 23,
   "metadata": {},
   "outputs": [
    {
     "data": {
      "text/plain": [
       "{1, 2, 3, 4, 5}"
      ]
     },
     "execution_count": 23,
     "metadata": {},
     "output_type": "execute_result"
    }
   ],
   "source": [
    "#Question 14\n",
    "l=[1,5,4,3,2]\n",
    "l=set(l)\n",
    "l"
   ]
  },
  {
   "cell_type": "code",
   "execution_count": 25,
   "metadata": {},
   "outputs": [
    {
     "data": {
      "text/plain": [
       "[1, 2, 3, 5]"
      ]
     },
     "execution_count": 25,
     "metadata": {},
     "output_type": "execute_result"
    }
   ],
   "source": [
    "#Question 15\n",
    "s={2,3,1,5}\n",
    "s=list(s)\n",
    "s"
   ]
  },
  {
   "cell_type": "code",
   "execution_count": 30,
   "metadata": {},
   "outputs": [
    {
     "data": {
      "text/plain": [
       "{1, 3, 4, 5, 6, 7, 8, 9, 10}"
      ]
     },
     "execution_count": 30,
     "metadata": {},
     "output_type": "execute_result"
    }
   ],
   "source": [
    "#Question 16\n",
    "import random\n",
    "r = random.randint(1,10)\n",
    "s={1,2,3,4,5,6,7,8,9,10}\n",
    "s.remove(r)\n",
    "s"
   ]
  },
  {
   "cell_type": "code",
   "execution_count": 31,
   "metadata": {},
   "outputs": [
    {
     "data": {
      "text/plain": [
       "{2, 3, 4, 5, 6, 7, 8, 9, 10}"
      ]
     },
     "execution_count": 31,
     "metadata": {},
     "output_type": "execute_result"
    }
   ],
   "source": [
    "#Question 17\n",
    "s={1,2,3,4,5,6,7,8,9,10}\n",
    "s.pop()\n",
    "s"
   ]
  },
  {
   "cell_type": "code",
   "execution_count": 2,
   "metadata": {},
   "outputs": [
    {
     "name": "stdout",
     "output_type": "stream",
     "text": [
      "No common elements\n"
     ]
    }
   ],
   "source": [
    "#Question 18\n",
    "s1={\"a\",\"b\",\"c\",\"d\"}\n",
    "s2={\"f\",\"e\"}\n",
    "if(s2.issubset(s1)):\n",
    "    print(\"There are common elements\")\n",
    "else:\n",
    "    print(\"No common elements\")\n",
    "    "
   ]
  },
  {
   "cell_type": "code",
   "execution_count": 3,
   "metadata": {},
   "outputs": [
    {
     "data": {
      "text/plain": [
       "{2, 3, 4, 7, 8}"
      ]
     },
     "execution_count": 3,
     "metadata": {},
     "output_type": "execute_result"
    }
   ],
   "source": [
    "#Question 19\n",
    "s1={2,3,4,5,6}\n",
    "s2={5,6,7,8}\n",
    "s1^s2"
   ]
  },
  {
   "cell_type": "code",
   "execution_count": 8,
   "metadata": {},
   "outputs": [
    {
     "data": {
      "text/plain": [
       "{2, 3, 4, 5, 6, 7, 8}"
      ]
     },
     "execution_count": 8,
     "metadata": {},
     "output_type": "execute_result"
    }
   ],
   "source": [
    "#Question 20\n",
    "s1={2,3,4,5,6}\n",
    "s2={5,6,7,8}\n",
    "s1.update(s2)\n",
    "s1"
   ]
  },
  {
   "cell_type": "code",
   "execution_count": 15,
   "metadata": {},
   "outputs": [
    {
     "data": {
      "text/plain": [
       "{2, 3, 5, 7, 11}"
      ]
     },
     "execution_count": 15,
     "metadata": {},
     "output_type": "execute_result"
    }
   ],
   "source": [
    "#Question 21\n",
    "def isprime(n):\n",
    "    for i in range(2,int(n**0.5)+1):\n",
    "        if(n%i==0):\n",
    "            return False\n",
    "    return True\n",
    "s=set()\n",
    "for x in range(2,13):\n",
    "    if(isprime(x)):\n",
    "        s.add(x)\n",
    "    else:\n",
    "        pass\n",
    "s"
   ]
  },
  {
   "cell_type": "code",
   "execution_count": 17,
   "metadata": {},
   "outputs": [
    {
     "data": {
      "text/plain": [
       "True"
      ]
     },
     "execution_count": 17,
     "metadata": {},
     "output_type": "execute_result"
    }
   ],
   "source": [
    "#Question 22\n",
    "s1={1,2,3,4}\n",
    "s2={4,2,1,3}\n",
    "s1==s2"
   ]
  },
  {
   "cell_type": "code",
   "execution_count": 19,
   "metadata": {},
   "outputs": [
    {
     "data": {
      "text/plain": [
       "frozenset({1, 2, 3, 4})"
      ]
     },
     "execution_count": 19,
     "metadata": {},
     "output_type": "execute_result"
    }
   ],
   "source": [
    "#Question 23\n",
    "l=[1,2,3,4]\n",
    "l=frozenset(l)\n",
    "l"
   ]
  },
  {
   "cell_type": "code",
   "execution_count": 20,
   "metadata": {},
   "outputs": [
    {
     "data": {
      "text/plain": [
       "False"
      ]
     },
     "execution_count": 20,
     "metadata": {},
     "output_type": "execute_result"
    }
   ],
   "source": [
    "#Question 24\n",
    "s1={2,3,4,5,6}\n",
    "s2={5,6,7,8}\n",
    "s1.isdisjoint(s2)"
   ]
  },
  {
   "cell_type": "code",
   "execution_count": 23,
   "metadata": {},
   "outputs": [
    {
     "data": {
      "text/plain": [
       "{1, 4, 9, 16, 25}"
      ]
     },
     "execution_count": 23,
     "metadata": {},
     "output_type": "execute_result"
    }
   ],
   "source": [
    "#Question 25\n",
    "s=set()\n",
    "for x in range(1,6):\n",
    "    s.add(x**2)\n",
    "s"
   ]
  },
  {
   "cell_type": "code",
   "execution_count": 26,
   "metadata": {},
   "outputs": [
    {
     "data": {
      "text/plain": [
       "{2, 4, 6, 8, 10}"
      ]
     },
     "execution_count": 26,
     "metadata": {},
     "output_type": "execute_result"
    }
   ],
   "source": [
    "#Question 26\n",
    "s={1,2,3,4,5,6,7,8,9,10}\n",
    "n=set()\n",
    "for x in s:\n",
    "    if(x%2==0):\n",
    "        n.add(x)\n",
    "n"
   ]
  },
  {
   "cell_type": "code",
   "execution_count": 27,
   "metadata": {},
   "outputs": [
    {
     "data": {
      "text/plain": [
       "{0, 2, 4, 6, 8, 10, 12, 14, 16, 18, 20, 22}"
      ]
     },
     "execution_count": 27,
     "metadata": {},
     "output_type": "execute_result"
    }
   ],
   "source": [
    "#Question 27\n",
    "s=set()\n",
    "for x in range(0,12):\n",
    "    s.add(x*2)\n",
    "s"
   ]
  },
  {
   "cell_type": "code",
   "execution_count": 36,
   "metadata": {},
   "outputs": [
    {
     "data": {
      "text/plain": [
       "{1, 5, 8, 9, 11, 13, 18, 19}"
      ]
     },
     "execution_count": 36,
     "metadata": {},
     "output_type": "execute_result"
    }
   ],
   "source": [
    "#Question 28\n",
    "import random\n",
    "s=set()\n",
    "for i in range(0,10):\n",
    "    r=random.randint(1,20)\n",
    "    s.add(r)\n",
    "s"
   ]
  },
  {
   "cell_type": "code",
   "execution_count": 38,
   "metadata": {},
   "outputs": [
    {
     "name": "stdout",
     "output_type": "stream",
     "text": [
      "Empty set\n"
     ]
    }
   ],
   "source": [
    "#Question 29\n",
    "s=set()\n",
    "if(len(s)==0):\n",
    "    print(\"Empty set\")\n",
    "else:\n",
    "    print(\"Not empty\")"
   ]
  },
  {
   "cell_type": "code",
   "execution_count": 39,
   "metadata": {},
   "outputs": [
    {
     "data": {
      "text/plain": [
       "(frozenset({1, 2, 3}), frozenset({3, 4, 5}))"
      ]
     },
     "execution_count": 39,
     "metadata": {},
     "output_type": "execute_result"
    }
   ],
   "source": [
    "#Question 30\n",
    "s1={1,2,3}\n",
    "s2={3,4,5}\n",
    "f1=frozenset(s1)\n",
    "f2=frozenset(s2)\n",
    "s=(f1,f2)\n",
    "s"
   ]
  },
  {
   "cell_type": "code",
   "execution_count": 40,
   "metadata": {},
   "outputs": [
    {
     "data": {
      "text/plain": [
       "{1, 3, 4}"
      ]
     },
     "execution_count": 40,
     "metadata": {},
     "output_type": "execute_result"
    }
   ],
   "source": [
    "#Question 31\n",
    "s={1,2,3,4}\n",
    "s.discard(2)\n",
    "s"
   ]
  },
  {
   "cell_type": "code",
   "execution_count": 41,
   "metadata": {},
   "outputs": [
    {
     "name": "stdout",
     "output_type": "stream",
     "text": [
      "{1, 2, 3, 4, 5}\n",
      "{4, 5, 6, 7, 8}\n",
      "False\n",
      "False\n",
      "{4, 5}\n",
      "{1, 2, 3, 4, 5, 6, 7, 8}\n",
      "{1, 2, 3}\n",
      "{8, 6, 7}\n"
     ]
    }
   ],
   "source": [
    "#Question 32\n",
    "set1 = {1, 2, 3, 4, 5}\n",
    "set2 = {4, 5, 6, 7, 8}\n",
    "is_subset = set1.issubset(set2)\n",
    "is_superset = set1.issuperset(set2)\n",
    "intersection = set1.intersection(set2)\n",
    "union = set1.union(set2)\n",
    "difference1 = set1.difference(set2)\n",
    "difference2 = set2.difference(set1)\n",
    "print(set1)\n",
    "print(set2)\n",
    "print(is_subset)\n",
    "print(is_superset)\n",
    "print(intersection)\n",
    "print(union)\n",
    "print(difference1)\n",
    "print(difference2)"
   ]
  },
  {
   "cell_type": "code",
   "execution_count": 42,
   "metadata": {},
   "outputs": [
    {
     "data": {
      "text/plain": [
       "{'i', 'k', 'l', 'p', 's', 'w'}"
      ]
     },
     "execution_count": 42,
     "metadata": {},
     "output_type": "execute_result"
    }
   ],
   "source": [
    "#Question 33\n",
    "word=\"pwskills\"\n",
    "word=set(word)\n",
    "word\n"
   ]
  },
  {
   "cell_type": "code",
   "execution_count": 43,
   "metadata": {},
   "outputs": [
    {
     "data": {
      "text/plain": [
       "{1, 2, 3}"
      ]
     },
     "execution_count": 43,
     "metadata": {},
     "output_type": "execute_result"
    }
   ],
   "source": [
    "#Question 34\n",
    "s={\"1\",\"2\",\"3\"}\n",
    "b=set()\n",
    "for x in s:\n",
    "    x=int(x)\n",
    "    b.add(x)\n",
    "b"
   ]
  },
  {
   "cell_type": "code",
   "execution_count": 45,
   "metadata": {},
   "outputs": [
    {
     "data": {
      "text/plain": [
       "{'1', '2', '3'}"
      ]
     },
     "execution_count": 45,
     "metadata": {},
     "output_type": "execute_result"
    }
   ],
   "source": [
    "#Question 35\n",
    "s={1,2,3}\n",
    "b=set()\n",
    "for x in s:\n",
    "    x=str(x)\n",
    "    b.add(x)\n",
    "b"
   ]
  },
  {
   "cell_type": "code",
   "execution_count": 46,
   "metadata": {},
   "outputs": [
    {
     "data": {
      "text/plain": [
       "{1, 2, 3, 4}"
      ]
     },
     "execution_count": 46,
     "metadata": {},
     "output_type": "execute_result"
    }
   ],
   "source": [
    "#Question 36\n",
    "t=(1,2,3,4)\n",
    "t=set(t)\n",
    "t"
   ]
  },
  {
   "cell_type": "code",
   "execution_count": 47,
   "metadata": {},
   "outputs": [
    {
     "data": {
      "text/plain": [
       "(1, 2, 3, 4)"
      ]
     },
     "execution_count": 47,
     "metadata": {},
     "output_type": "execute_result"
    }
   ],
   "source": [
    "#Question 37\n",
    "s={1,2,3,4}\n",
    "s=tuple(s)\n",
    "s"
   ]
  },
  {
   "cell_type": "code",
   "execution_count": 50,
   "metadata": {},
   "outputs": [
    {
     "name": "stdout",
     "output_type": "stream",
     "text": [
      "5\n"
     ]
    }
   ],
   "source": [
    "#Question 38\n",
    "s={2,1,3,4,5}\n",
    "max=-1\n",
    "for i in s:\n",
    "    if(i>max):\n",
    "        max=i\n",
    "print(max)"
   ]
  },
  {
   "cell_type": "code",
   "execution_count": 52,
   "metadata": {},
   "outputs": [
    {
     "name": "stdout",
     "output_type": "stream",
     "text": [
      "1\n"
     ]
    }
   ],
   "source": [
    "#Question 39\n",
    "s={2,1,3,4,5}\n",
    "min=10000000000000000\n",
    "for i in s:\n",
    "    if(i<min):\n",
    "        min=i\n",
    "print(min)"
   ]
  },
  {
   "cell_type": "code",
   "execution_count": 53,
   "metadata": {},
   "outputs": [
    {
     "name": "stdout",
     "output_type": "stream",
     "text": [
      "1\n",
      "2\n",
      "3\n",
      "4\n",
      "5\n"
     ]
    },
    {
     "data": {
      "text/plain": [
       "{'1', '2', '3', '4', '5'}"
      ]
     },
     "execution_count": 53,
     "metadata": {},
     "output_type": "execute_result"
    }
   ],
   "source": [
    "#Question 40\n",
    "s=set()\n",
    "length=5\n",
    "for i in range(0,length):\n",
    "    x=input()\n",
    "    s.add(x)\n",
    "s"
   ]
  },
  {
   "cell_type": "code",
   "execution_count": 2,
   "metadata": {},
   "outputs": [
    {
     "name": "stdout",
     "output_type": "stream",
     "text": [
      "Empty set\n"
     ]
    }
   ],
   "source": [
    "#Question 41\n",
    "s1={1,2,3}\n",
    "s2={4,5,6}\n",
    "if not s1.intersection(s2):\n",
    "    print(\"Empty set\")\n",
    "else:\n",
    "    print(\"Not empty set\")"
   ]
  },
  {
   "cell_type": "code",
   "execution_count": 7,
   "metadata": {},
   "outputs": [
    {
     "data": {
      "text/plain": [
       "{0, 1, 2, 3, 5, 8}"
      ]
     },
     "execution_count": 7,
     "metadata": {},
     "output_type": "execute_result"
    }
   ],
   "source": [
    "#Question 42\n",
    "l=[0,1]\n",
    "def f(n):\n",
    "    for i in range(0,n):\n",
    "        new_term = l[i]+l[i+1]\n",
    "        l.append(new_term)\n",
    "    return set(l)\n",
    "f(5)"
   ]
  },
  {
   "cell_type": "code",
   "execution_count": 8,
   "metadata": {},
   "outputs": [
    {
     "data": {
      "text/plain": [
       "[1, 2, 3, 4]"
      ]
     },
     "execution_count": 8,
     "metadata": {},
     "output_type": "execute_result"
    }
   ],
   "source": [
    "#Question 43\n",
    "l=[1,1,2,2,3,4]\n",
    "l=set(l)\n",
    "l=list(l)\n",
    "l"
   ]
  },
  {
   "cell_type": "code",
   "execution_count": 10,
   "metadata": {},
   "outputs": [
    {
     "name": "stdout",
     "output_type": "stream",
     "text": [
      "Not equal sets\n"
     ]
    }
   ],
   "source": [
    "#Question 44\n",
    "s1={3,2,1,4}\n",
    "s2={5,3,3,1}\n",
    "\n",
    "if(s1==s2):\n",
    "    print(\"Equal Sets\")\n",
    "else:\n",
    "    print(\"Not equal sets\")"
   ]
  },
  {
   "cell_type": "code",
   "execution_count": 14,
   "metadata": {},
   "outputs": [
    {
     "data": {
      "text/plain": [
       "{1, 2, 4, 8, 16, 32, 64}"
      ]
     },
     "execution_count": 14,
     "metadata": {},
     "output_type": "execute_result"
    }
   ],
   "source": [
    "#Question 45\n",
    "def sqr(n,s):\n",
    "    for x in range(0,n+1):\n",
    "        s.add(2**x)\n",
    "    return s\n",
    "s=set()\n",
    "sqr(6,s)\n"
   ]
  },
  {
   "cell_type": "code",
   "execution_count": 15,
   "metadata": {},
   "outputs": [
    {
     "data": {
      "text/plain": [
       "[3, 4]"
      ]
     },
     "execution_count": 15,
     "metadata": {},
     "output_type": "execute_result"
    }
   ],
   "source": [
    "#Question 46\n",
    "l=[1,2,3,4]\n",
    "s={3,4,5}\n",
    "k=[]\n",
    "l=set(l)\n",
    "for i in l:\n",
    "    if i in s:\n",
    "        k.append(i)\n",
    "k"
   ]
  },
  {
   "cell_type": "code",
   "execution_count": 23,
   "metadata": {},
   "outputs": [
    {
     "data": {
      "text/plain": [
       "{0, 1, 3, 6, 10, 15, 21, 28, 36, 45, 55}"
      ]
     },
     "execution_count": 23,
     "metadata": {},
     "output_type": "execute_result"
    }
   ],
   "source": [
    "#Question 47\n",
    "def f(n):\n",
    "    return n*(n+1)/2\n",
    "s=set()\n",
    "for i in range(0,11):\n",
    "    s.add(int(f(i)))\n",
    "s\n",
    "        \n"
   ]
  },
  {
   "cell_type": "code",
   "execution_count": 25,
   "metadata": {},
   "outputs": [
    {
     "data": {
      "text/plain": [
       "True"
      ]
     },
     "execution_count": 25,
     "metadata": {},
     "output_type": "execute_result"
    }
   ],
   "source": [
    "#Question 48\n",
    "s1={1,2,3,4}\n",
    "s2={2,3,4}\n",
    "s2.issubset(s1)"
   ]
  },
  {
   "cell_type": "code",
   "execution_count": 29,
   "metadata": {},
   "outputs": [
    {
     "name": "stdout",
     "output_type": "stream",
     "text": [
      "{0, 1}\n"
     ]
    }
   ],
   "source": [
    "#Question 49\n",
    "s = set()\n",
    "def gen(n, s):\n",
    "    for i in range(0, n+1):\n",
    "        if i % 2 == 0:\n",
    "            s.add(0)\n",
    "        else:\n",
    "            s.add(1)\n",
    "    return s\n",
    "gen(10, s)\n"
   ]
  },
  {
   "cell_type": "code",
   "execution_count": 32,
   "metadata": {},
   "outputs": [
    {
     "data": {
      "text/plain": [
       "{1, 2, 3, 4, 5, 6, 7}"
      ]
     },
     "execution_count": 32,
     "metadata": {},
     "output_type": "execute_result"
    }
   ],
   "source": [
    "#Question 50\n",
    "s1={1,2,3,4,5}\n",
    "s2={5,6,7}\n",
    "s1.union(s2)"
   ]
  },
  {
   "cell_type": "code",
   "execution_count": null,
   "metadata": {},
   "outputs": [],
   "source": []
  },
  {
   "cell_type": "code",
   "execution_count": null,
   "metadata": {},
   "outputs": [],
   "source": []
  }
 ],
 "metadata": {
  "kernelspec": {
   "display_name": "Python 3 (ipykernel)",
   "language": "python",
   "name": "python3"
  },
  "language_info": {
   "codemirror_mode": {
    "name": "ipython",
    "version": 3
   },
   "file_extension": ".py",
   "mimetype": "text/x-python",
   "name": "python",
   "nbconvert_exporter": "python",
   "pygments_lexer": "ipython3",
   "version": "3.11.5"
  }
 },
 "nbformat": 4,
 "nbformat_minor": 4
}
